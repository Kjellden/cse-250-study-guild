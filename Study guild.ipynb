{
 "cells": [
  {
   "cell_type": "code",
   "execution_count": 12,
   "metadata": {},
   "outputs": [],
   "source": [
    "import pandas as pd\n",
    "import altair as alt\n",
    "import numpy as np\n",
    "\n",
    "import sqlite3 as sql\n",
    "\n",
    "import json\n",
    "\n",
    "# Use to handle large amount of data\n",
    "# alt.data_transformers.enable('json')"
   ]
  },
  {
   "cell_type": "code",
   "execution_count": 13,
   "metadata": {},
   "outputs": [],
   "source": [
    "# Machine learning model\n",
    "from sklearn import metrics\n",
    "from sklearn.tree import DecisionTreeClassifier\n",
    "from sklearn.model_selection import train_test_split"
   ]
  },
  {
   "cell_type": "markdown",
   "metadata": {},
   "source": [
    "# Data sets used\n",
    "These are the data sets used in the outline for the examples code."
   ]
  },
  {
   "cell_type": "code",
   "execution_count": 14,
   "metadata": {},
   "outputs": [],
   "source": [
    "cars_url = \"https://github.com/byuidatascience/data4missing/raw/master/data-raw/mtcars_missing/mtcars_missing.json\" # this gets the cars data from this url\n",
    "car_db = pd.read_json(cars_url) # uses pandas read_json command to open the data set in pandas format\n",
    "\n",
    "names_url = \"names_year.csv\"\n",
    "names_db = pd.read_csv(names_url)\n",
    "alt.data_transformers.enable('json')\n",
    "\n",
    "con = sql.connect(\"lahmansbaseballdb.sqlite\") # allows you to us the sql data set"
   ]
  },
  {
   "cell_type": "markdown",
   "metadata": {},
   "source": [
    "# Line chat \n",
    "how to get a line chat to show up in alt air"
   ]
  },
  {
   "cell_type": "code",
   "execution_count": 15,
   "metadata": {},
   "outputs": [
    {
     "data": {
      "text/html": [
       "\n",
       "<div id=\"altair-viz-78cf07d57af343b0925ef4386a385768\"></div>\n",
       "<script type=\"text/javascript\">\n",
       "  var VEGA_DEBUG = (typeof VEGA_DEBUG == \"undefined\") ? {} : VEGA_DEBUG;\n",
       "  (function(spec, embedOpt){\n",
       "    let outputDiv = document.currentScript.previousElementSibling;\n",
       "    if (outputDiv.id !== \"altair-viz-78cf07d57af343b0925ef4386a385768\") {\n",
       "      outputDiv = document.getElementById(\"altair-viz-78cf07d57af343b0925ef4386a385768\");\n",
       "    }\n",
       "    const paths = {\n",
       "      \"vega\": \"https://cdn.jsdelivr.net/npm//vega@5?noext\",\n",
       "      \"vega-lib\": \"https://cdn.jsdelivr.net/npm//vega-lib?noext\",\n",
       "      \"vega-lite\": \"https://cdn.jsdelivr.net/npm//vega-lite@4.17.0?noext\",\n",
       "      \"vega-embed\": \"https://cdn.jsdelivr.net/npm//vega-embed@6?noext\",\n",
       "    };\n",
       "\n",
       "    function maybeLoadScript(lib, version) {\n",
       "      var key = `${lib.replace(\"-\", \"\")}_version`;\n",
       "      return (VEGA_DEBUG[key] == version) ?\n",
       "        Promise.resolve(paths[lib]) :\n",
       "        new Promise(function(resolve, reject) {\n",
       "          var s = document.createElement('script');\n",
       "          document.getElementsByTagName(\"head\")[0].appendChild(s);\n",
       "          s.async = true;\n",
       "          s.onload = () => {\n",
       "            VEGA_DEBUG[key] = version;\n",
       "            return resolve(paths[lib]);\n",
       "          };\n",
       "          s.onerror = () => reject(`Error loading script: ${paths[lib]}`);\n",
       "          s.src = paths[lib];\n",
       "        });\n",
       "    }\n",
       "\n",
       "    function showError(err) {\n",
       "      outputDiv.innerHTML = `<div class=\"error\" style=\"color:red;\">${err}</div>`;\n",
       "      throw err;\n",
       "    }\n",
       "\n",
       "    function displayChart(vegaEmbed) {\n",
       "      vegaEmbed(outputDiv, spec, embedOpt)\n",
       "        .catch(err => showError(`Javascript Error: ${err.message}<br>This usually means there's a typo in your chart specification. See the javascript console for the full traceback.`));\n",
       "    }\n",
       "\n",
       "    if(typeof define === \"function\" && define.amd) {\n",
       "      requirejs.config({paths});\n",
       "      require([\"vega-embed\"], displayChart, err => showError(`Error loading script: ${err.message}`));\n",
       "    } else {\n",
       "      maybeLoadScript(\"vega\", \"5\")\n",
       "        .then(() => maybeLoadScript(\"vega-lite\", \"4.17.0\"))\n",
       "        .then(() => maybeLoadScript(\"vega-embed\", \"6\"))\n",
       "        .catch(showError)\n",
       "        .then(() => displayChart(vegaEmbed));\n",
       "    }\n",
       "  })({\"config\": {\"view\": {\"continuousWidth\": 400, \"continuousHeight\": 300}}, \"data\": {\"url\": \"altair-data-929531779a4ba672ec4d193067b126e5.json\", \"format\": {\"type\": \"json\"}}, \"mark\": \"line\", \"encoding\": {\"color\": {\"field\": \"name\", \"type\": \"nominal\"}, \"x\": {\"field\": \"year\", \"title\": \"year of use\", \"type\": \"ordinal\"}, \"y\": {\"field\": \"WA\", \"title\": \"Num times name was used\", \"type\": \"quantitative\"}}, \"title\": \"names from Washington line chart\", \"$schema\": \"https://vega.github.io/schema/vega-lite/v4.17.0.json\"}, {\"mode\": \"vega-lite\"});\n",
       "</script>"
      ],
      "text/plain": [
       "alt.Chart(...)"
      ]
     },
     "execution_count": 15,
     "metadata": {},
     "output_type": "execute_result"
    }
   ],
   "source": [
    "all_names_wa= names_db.filter([\"name\", \"year\", \"WA\"])\n",
    "name_list = [\"Aarna\", \"Aaden\", \"Sheldon\", \"Nathan\", \"Ben\"]\n",
    "all_names_wa = names_db.query(\"name == @name_list\")\n",
    "all_names_wa_chart = (alt.Chart(all_names_wa, title = \"names from Washington line chart\")\n",
    "                      .mark_line()\n",
    "                      .encode(\n",
    "                          x = alt.X(\"year:O\", title= \"year of use\"), # use the :O to make the numbers not have a , in them\n",
    "                          y = alt.Y(\"WA\", title= \"Num times name was used\"),\n",
    "                          color = \"name\"\n",
    "                      )\n",
    "                      )\n",
    "all_names_wa_chart"
   ]
  },
  {
   "cell_type": "markdown",
   "metadata": {},
   "source": [
    "# line chart templet\n",
    "all_names_wa_chart = (alt.Chart(, title = \"\")\n",
    "                      .mark_line()\n",
    "                      .encode(\n",
    "                          x = alt.X(\"\", title= \"\"), \n",
    "                          y = alt.Y(\"WA\", title= \"\"),\n",
    "                          color = \"name\")\n",
    "                          )"
   ]
  },
  {
   "cell_type": "markdown",
   "metadata": {},
   "source": [
    "# bar chart "
   ]
  },
  {
   "cell_type": "code",
   "execution_count": 16,
   "metadata": {},
   "outputs": [
    {
     "data": {
      "text/html": [
       "\n",
       "<div id=\"altair-viz-853a6c9007c64612a9c46d9894048a2c\"></div>\n",
       "<script type=\"text/javascript\">\n",
       "  var VEGA_DEBUG = (typeof VEGA_DEBUG == \"undefined\") ? {} : VEGA_DEBUG;\n",
       "  (function(spec, embedOpt){\n",
       "    let outputDiv = document.currentScript.previousElementSibling;\n",
       "    if (outputDiv.id !== \"altair-viz-853a6c9007c64612a9c46d9894048a2c\") {\n",
       "      outputDiv = document.getElementById(\"altair-viz-853a6c9007c64612a9c46d9894048a2c\");\n",
       "    }\n",
       "    const paths = {\n",
       "      \"vega\": \"https://cdn.jsdelivr.net/npm//vega@5?noext\",\n",
       "      \"vega-lib\": \"https://cdn.jsdelivr.net/npm//vega-lib?noext\",\n",
       "      \"vega-lite\": \"https://cdn.jsdelivr.net/npm//vega-lite@4.17.0?noext\",\n",
       "      \"vega-embed\": \"https://cdn.jsdelivr.net/npm//vega-embed@6?noext\",\n",
       "    };\n",
       "\n",
       "    function maybeLoadScript(lib, version) {\n",
       "      var key = `${lib.replace(\"-\", \"\")}_version`;\n",
       "      return (VEGA_DEBUG[key] == version) ?\n",
       "        Promise.resolve(paths[lib]) :\n",
       "        new Promise(function(resolve, reject) {\n",
       "          var s = document.createElement('script');\n",
       "          document.getElementsByTagName(\"head\")[0].appendChild(s);\n",
       "          s.async = true;\n",
       "          s.onload = () => {\n",
       "            VEGA_DEBUG[key] = version;\n",
       "            return resolve(paths[lib]);\n",
       "          };\n",
       "          s.onerror = () => reject(`Error loading script: ${paths[lib]}`);\n",
       "          s.src = paths[lib];\n",
       "        });\n",
       "    }\n",
       "\n",
       "    function showError(err) {\n",
       "      outputDiv.innerHTML = `<div class=\"error\" style=\"color:red;\">${err}</div>`;\n",
       "      throw err;\n",
       "    }\n",
       "\n",
       "    function displayChart(vegaEmbed) {\n",
       "      vegaEmbed(outputDiv, spec, embedOpt)\n",
       "        .catch(err => showError(`Javascript Error: ${err.message}<br>This usually means there's a typo in your chart specification. See the javascript console for the full traceback.`));\n",
       "    }\n",
       "\n",
       "    if(typeof define === \"function\" && define.amd) {\n",
       "      requirejs.config({paths});\n",
       "      require([\"vega-embed\"], displayChart, err => showError(`Error loading script: ${err.message}`));\n",
       "    } else {\n",
       "      maybeLoadScript(\"vega\", \"5\")\n",
       "        .then(() => maybeLoadScript(\"vega-lite\", \"4.17.0\"))\n",
       "        .then(() => maybeLoadScript(\"vega-embed\", \"6\"))\n",
       "        .catch(showError)\n",
       "        .then(() => displayChart(vegaEmbed));\n",
       "    }\n",
       "  })({\"config\": {\"view\": {\"continuousWidth\": 400, \"continuousHeight\": 300}}, \"data\": {\"url\": \"altair-data-e7bcb3db2baa72b515ffce4dafa14775.json\", \"format\": {\"type\": \"json\"}}, \"mark\": \"bar\", \"encoding\": {\"x\": {\"field\": \"name\", \"title\": \"names\", \"type\": \"nominal\"}, \"y\": {\"field\": \"sum_name_use\", \"title\": \"sum_use\", \"type\": \"quantitative\"}}, \"title\": \"names in washington bar chart\", \"$schema\": \"https://vega.github.io/schema/vega-lite/v4.17.0.json\"}, {\"mode\": \"vega-lite\"});\n",
       "</script>"
      ],
      "text/plain": [
       "alt.Chart(...)"
      ]
     },
     "execution_count": 16,
     "metadata": {},
     "output_type": "execute_result"
    }
   ],
   "source": [
    "bar_names = names_db.copy()\n",
    "bar_names = bar_names.filter([\"name\", \"year\", \"WA\"])\n",
    "name_list = [\"Aarna\", \"Aaden\", \"Sheldon\", \"Nathan\", \"Ben\"]\n",
    "bar_names = bar_names.query(\"name == @name_list\")\n",
    "\n",
    "bar_names = bar_names.groupby(\"name\").agg(\n",
    "    avg_num_name_use_per_year = (\"WA\", np.mean),\n",
    "    sum_name_use = (\"WA\", np.sum)\n",
    ").reset_index().round(0)\n",
    "\n",
    "bar_names_chart = (alt.Chart(bar_names, title  = \"names in washington bar chart\")\n",
    "                   .mark_bar()\n",
    "                   .encode(\n",
    "                       x = alt.X(\"name\", title = \"names\"),\n",
    "                       y = alt.Y(\"sum_name_use\", title= \"sum_use\")\n",
    "                   ))\n",
    "bar_names_chart\n"
   ]
  },
  {
   "cell_type": "markdown",
   "metadata": {},
   "source": [
    "# bar chart templet\n",
    " = (alt.Chart(, title  = \"\")\n",
    "                   .mark_bar()\n",
    "                   .encode(\n",
    "                       x = alt.X(\"\", title = \"\"),\n",
    "                       y = alt.Y(\"\", title= \"\")\n",
    "                   ))"
   ]
  },
  {
   "cell_type": "markdown",
   "metadata": {},
   "source": [
    "# adding avg line and adding text\n",
    "We will use the chart from bar chart for this example"
   ]
  },
  {
   "cell_type": "code",
   "execution_count": 17,
   "metadata": {},
   "outputs": [
    {
     "data": {
      "text/html": [
       "\n",
       "<div id=\"altair-viz-d2bdc47c977546ca813eeff3075c06ca\"></div>\n",
       "<script type=\"text/javascript\">\n",
       "  var VEGA_DEBUG = (typeof VEGA_DEBUG == \"undefined\") ? {} : VEGA_DEBUG;\n",
       "  (function(spec, embedOpt){\n",
       "    let outputDiv = document.currentScript.previousElementSibling;\n",
       "    if (outputDiv.id !== \"altair-viz-d2bdc47c977546ca813eeff3075c06ca\") {\n",
       "      outputDiv = document.getElementById(\"altair-viz-d2bdc47c977546ca813eeff3075c06ca\");\n",
       "    }\n",
       "    const paths = {\n",
       "      \"vega\": \"https://cdn.jsdelivr.net/npm//vega@5?noext\",\n",
       "      \"vega-lib\": \"https://cdn.jsdelivr.net/npm//vega-lib?noext\",\n",
       "      \"vega-lite\": \"https://cdn.jsdelivr.net/npm//vega-lite@4.17.0?noext\",\n",
       "      \"vega-embed\": \"https://cdn.jsdelivr.net/npm//vega-embed@6?noext\",\n",
       "    };\n",
       "\n",
       "    function maybeLoadScript(lib, version) {\n",
       "      var key = `${lib.replace(\"-\", \"\")}_version`;\n",
       "      return (VEGA_DEBUG[key] == version) ?\n",
       "        Promise.resolve(paths[lib]) :\n",
       "        new Promise(function(resolve, reject) {\n",
       "          var s = document.createElement('script');\n",
       "          document.getElementsByTagName(\"head\")[0].appendChild(s);\n",
       "          s.async = true;\n",
       "          s.onload = () => {\n",
       "            VEGA_DEBUG[key] = version;\n",
       "            return resolve(paths[lib]);\n",
       "          };\n",
       "          s.onerror = () => reject(`Error loading script: ${paths[lib]}`);\n",
       "          s.src = paths[lib];\n",
       "        });\n",
       "    }\n",
       "\n",
       "    function showError(err) {\n",
       "      outputDiv.innerHTML = `<div class=\"error\" style=\"color:red;\">${err}</div>`;\n",
       "      throw err;\n",
       "    }\n",
       "\n",
       "    function displayChart(vegaEmbed) {\n",
       "      vegaEmbed(outputDiv, spec, embedOpt)\n",
       "        .catch(err => showError(`Javascript Error: ${err.message}<br>This usually means there's a typo in your chart specification. See the javascript console for the full traceback.`));\n",
       "    }\n",
       "\n",
       "    if(typeof define === \"function\" && define.amd) {\n",
       "      requirejs.config({paths});\n",
       "      require([\"vega-embed\"], displayChart, err => showError(`Error loading script: ${err.message}`));\n",
       "    } else {\n",
       "      maybeLoadScript(\"vega\", \"5\")\n",
       "        .then(() => maybeLoadScript(\"vega-lite\", \"4.17.0\"))\n",
       "        .then(() => maybeLoadScript(\"vega-embed\", \"6\"))\n",
       "        .catch(showError)\n",
       "        .then(() => displayChart(vegaEmbed));\n",
       "    }\n",
       "  })({\"config\": {\"view\": {\"continuousWidth\": 400, \"continuousHeight\": 300}}, \"layer\": [{\"data\": {\"url\": \"altair-data-e7bcb3db2baa72b515ffce4dafa14775.json\", \"format\": {\"type\": \"json\"}}, \"mark\": \"bar\", \"encoding\": {\"x\": {\"field\": \"name\", \"title\": \"names\", \"type\": \"nominal\"}, \"y\": {\"field\": \"sum_name_use\", \"title\": \"sum_use\", \"type\": \"quantitative\"}}, \"title\": \"names in washington bar chart\"}, {\"data\": {\"url\": \"altair-data-a0371093fd1a3a02cc8550c62958b198.json\", \"format\": {\"type\": \"json\"}}, \"mark\": {\"type\": \"line\", \"color\": \"RED\"}, \"encoding\": {\"x\": {\"field\": \"name\", \"type\": \"nominal\"}, \"y\": {\"field\": \"avg_name_use_over_all\", \"type\": \"quantitative\"}}}, {\"data\": {\"url\": \"altair-data-e7bcb3db2baa72b515ffce4dafa14775.json\", \"format\": {\"type\": \"json\"}}, \"mark\": {\"type\": \"text\", \"angle\": 90, \"dx\": -15}, \"encoding\": {\"text\": {\"field\": \"sum_name_use\", \"type\": \"quantitative\"}, \"x\": {\"field\": \"name\", \"title\": \"names\", \"type\": \"nominal\"}, \"y\": {\"field\": \"sum_name_use\", \"title\": \"sum_use\", \"type\": \"quantitative\"}}, \"title\": \"names in washington bar chart\"}], \"$schema\": \"https://vega.github.io/schema/vega-lite/v4.17.0.json\"}, {\"mode\": \"vega-lite\"});\n",
       "</script>"
      ],
      "text/plain": [
       "alt.LayerChart(...)"
      ]
     },
     "execution_count": 17,
     "metadata": {},
     "output_type": "execute_result"
    }
   ],
   "source": [
    "bar_names = names_db.copy()\n",
    "bar_names = bar_names.filter([\"name\", \"year\", \"WA\"])\n",
    "name_list = [\"Aarna\", \"Aaden\", \"Sheldon\", \"Nathan\", \"Ben\"]\n",
    "bar_names = bar_names.query(\"name == @name_list\")\n",
    "names_avg = (bar_names.WA.sum() / len(name_list)).round(0)\n",
    "bar_names = bar_names.assign(\n",
    "    avg_name_use_over_all = names_avg\n",
    ")\n",
    "bar_names\n",
    "\n",
    "avg_line = (alt.Chart(bar_names)\n",
    "            .mark_line(color= \"RED\")\n",
    "            .encode(\n",
    "                x= alt.X(\"name\"),\n",
    "                y = alt.Y(\"avg_name_use_over_all\")\n",
    "            ))\n",
    "\n",
    "bar_text = bar_names_chart.mark_text(\n",
    "    angle = 90,\n",
    "    dx = -15\n",
    "    ).encode(\n",
    "    text = alt.Text(\"sum_name_use:Q\")\n",
    ")\n",
    "\n",
    "\n",
    "bar_names_chart + avg_line + bar_text  # add the charts in the right order or it will not work right\n"
   ]
  },
  {
   "cell_type": "markdown",
   "metadata": {},
   "source": [
    "# show %\n",
    "on the axis you want to show in % use format= (\",.0%\") in side of alt.X OR alt.Y or you could use axis=alt.Axis(format='%') also inside alt.X or alt.Y"
   ]
  },
  {
   "cell_type": "markdown",
   "metadata": {},
   "source": [
    "# coding challenge\n"
   ]
  },
  {
   "cell_type": "code",
   "execution_count": null,
   "metadata": {},
   "outputs": [],
   "source": []
  },
  {
   "cell_type": "markdown",
   "metadata": {},
   "source": [
    "# SQL"
   ]
  },
  {
   "cell_type": "markdown",
   "metadata": {},
   "source": [
    "### Explaing SQL\n",
    "\n",
    "'SELECT' - Saying what data you want to pull\n",
    "\n",
    "'*' - Pulls all tables\n",
    "\n",
    "'FROM' - Which table you want to pull from\n",
    "\n",
    "'fielding' - Table you are pulling from\n",
    "\n",
    "'LIMIT 5' - only show '5' rows\n",
    "\n",
    "con - sql database"
   ]
  },
  {
   "cell_type": "code",
   "execution_count": 18,
   "metadata": {},
   "outputs": [
    {
     "data": {
      "text/html": [
       "<div>\n",
       "<style scoped>\n",
       "    .dataframe tbody tr th:only-of-type {\n",
       "        vertical-align: middle;\n",
       "    }\n",
       "\n",
       "    .dataframe tbody tr th {\n",
       "        vertical-align: top;\n",
       "    }\n",
       "\n",
       "    .dataframe thead th {\n",
       "        text-align: right;\n",
       "    }\n",
       "</style>\n",
       "<table border=\"1\" class=\"dataframe\">\n",
       "  <thead>\n",
       "    <tr style=\"text-align: right;\">\n",
       "      <th></th>\n",
       "      <th>ID</th>\n",
       "      <th>playerID</th>\n",
       "      <th>yearID</th>\n",
       "      <th>stint</th>\n",
       "      <th>teamID</th>\n",
       "      <th>team_ID</th>\n",
       "      <th>lgID</th>\n",
       "      <th>POS</th>\n",
       "      <th>G</th>\n",
       "      <th>GS</th>\n",
       "      <th>InnOuts</th>\n",
       "      <th>PO</th>\n",
       "      <th>A</th>\n",
       "      <th>E</th>\n",
       "      <th>DP</th>\n",
       "      <th>PB</th>\n",
       "      <th>WP</th>\n",
       "      <th>SB</th>\n",
       "      <th>CS</th>\n",
       "      <th>ZR</th>\n",
       "    </tr>\n",
       "  </thead>\n",
       "  <tbody>\n",
       "    <tr>\n",
       "      <th>0</th>\n",
       "      <td>1</td>\n",
       "      <td>abercda01</td>\n",
       "      <td>1871</td>\n",
       "      <td>1</td>\n",
       "      <td>TRO</td>\n",
       "      <td>8</td>\n",
       "      <td>NA</td>\n",
       "      <td>SS</td>\n",
       "      <td>1</td>\n",
       "      <td>1</td>\n",
       "      <td>24</td>\n",
       "      <td>1</td>\n",
       "      <td>3</td>\n",
       "      <td>2</td>\n",
       "      <td>0</td>\n",
       "      <td>None</td>\n",
       "      <td>None</td>\n",
       "      <td>None</td>\n",
       "      <td>None</td>\n",
       "      <td>None</td>\n",
       "    </tr>\n",
       "    <tr>\n",
       "      <th>1</th>\n",
       "      <td>2</td>\n",
       "      <td>addybo01</td>\n",
       "      <td>1871</td>\n",
       "      <td>1</td>\n",
       "      <td>RC1</td>\n",
       "      <td>7</td>\n",
       "      <td>NA</td>\n",
       "      <td>2B</td>\n",
       "      <td>22</td>\n",
       "      <td>22</td>\n",
       "      <td>606</td>\n",
       "      <td>67</td>\n",
       "      <td>72</td>\n",
       "      <td>42</td>\n",
       "      <td>5</td>\n",
       "      <td>None</td>\n",
       "      <td>None</td>\n",
       "      <td>None</td>\n",
       "      <td>None</td>\n",
       "      <td>None</td>\n",
       "    </tr>\n",
       "    <tr>\n",
       "      <th>2</th>\n",
       "      <td>3</td>\n",
       "      <td>addybo01</td>\n",
       "      <td>1871</td>\n",
       "      <td>1</td>\n",
       "      <td>RC1</td>\n",
       "      <td>7</td>\n",
       "      <td>NA</td>\n",
       "      <td>SS</td>\n",
       "      <td>3</td>\n",
       "      <td>3</td>\n",
       "      <td>96</td>\n",
       "      <td>8</td>\n",
       "      <td>14</td>\n",
       "      <td>7</td>\n",
       "      <td>0</td>\n",
       "      <td>None</td>\n",
       "      <td>None</td>\n",
       "      <td>None</td>\n",
       "      <td>None</td>\n",
       "      <td>None</td>\n",
       "    </tr>\n",
       "    <tr>\n",
       "      <th>3</th>\n",
       "      <td>4</td>\n",
       "      <td>allisar01</td>\n",
       "      <td>1871</td>\n",
       "      <td>1</td>\n",
       "      <td>CL1</td>\n",
       "      <td>3</td>\n",
       "      <td>NA</td>\n",
       "      <td>2B</td>\n",
       "      <td>2</td>\n",
       "      <td>0</td>\n",
       "      <td>18</td>\n",
       "      <td>1</td>\n",
       "      <td>4</td>\n",
       "      <td>0</td>\n",
       "      <td>0</td>\n",
       "      <td>None</td>\n",
       "      <td>None</td>\n",
       "      <td>None</td>\n",
       "      <td>None</td>\n",
       "      <td>None</td>\n",
       "    </tr>\n",
       "    <tr>\n",
       "      <th>4</th>\n",
       "      <td>5</td>\n",
       "      <td>allisar01</td>\n",
       "      <td>1871</td>\n",
       "      <td>1</td>\n",
       "      <td>CL1</td>\n",
       "      <td>3</td>\n",
       "      <td>NA</td>\n",
       "      <td>OF</td>\n",
       "      <td>29</td>\n",
       "      <td>29</td>\n",
       "      <td>729</td>\n",
       "      <td>51</td>\n",
       "      <td>3</td>\n",
       "      <td>7</td>\n",
       "      <td>1</td>\n",
       "      <td>None</td>\n",
       "      <td>None</td>\n",
       "      <td>None</td>\n",
       "      <td>None</td>\n",
       "      <td>None</td>\n",
       "    </tr>\n",
       "  </tbody>\n",
       "</table>\n",
       "</div>"
      ],
      "text/plain": [
       "   ID   playerID  yearID  stint teamID  team_ID lgID POS   G  GS  InnOuts  PO  \\\n",
       "0   1  abercda01    1871      1    TRO        8   NA  SS   1   1       24   1   \n",
       "1   2   addybo01    1871      1    RC1        7   NA  2B  22  22      606  67   \n",
       "2   3   addybo01    1871      1    RC1        7   NA  SS   3   3       96   8   \n",
       "3   4  allisar01    1871      1    CL1        3   NA  2B   2   0       18   1   \n",
       "4   5  allisar01    1871      1    CL1        3   NA  OF  29  29      729  51   \n",
       "\n",
       "    A   E  DP    PB    WP    SB    CS    ZR  \n",
       "0   3   2   0  None  None  None  None  None  \n",
       "1  72  42   5  None  None  None  None  None  \n",
       "2  14   7   0  None  None  None  None  None  \n",
       "3   4   0   0  None  None  None  None  None  \n",
       "4   3   7   1  None  None  None  None  None  "
      ]
     },
     "execution_count": 18,
     "metadata": {},
     "output_type": "execute_result"
    }
   ],
   "source": [
    "df = pd.read_sql_query(\"\"\"SELECT * \n",
    "                        FROM fielding \n",
    "                        LIMIT 5\"\"\", con)\n",
    "df"
   ]
  },
  {
   "cell_type": "markdown",
   "metadata": {},
   "source": [
    "### Creating New Dataframe\n",
    "\n",
    "When creating a new dataframe query the data you need and set it to a new variable\n",
    "\n",
    "The LIMIT will effect the dataframe"
   ]
  },
  {
   "cell_type": "code",
   "execution_count": 19,
   "metadata": {},
   "outputs": [
    {
     "data": {
      "text/html": [
       "<div>\n",
       "<style scoped>\n",
       "    .dataframe tbody tr th:only-of-type {\n",
       "        vertical-align: middle;\n",
       "    }\n",
       "\n",
       "    .dataframe tbody tr th {\n",
       "        vertical-align: top;\n",
       "    }\n",
       "\n",
       "    .dataframe thead th {\n",
       "        text-align: right;\n",
       "    }\n",
       "</style>\n",
       "<table border=\"1\" class=\"dataframe\">\n",
       "  <thead>\n",
       "    <tr style=\"text-align: right;\">\n",
       "      <th></th>\n",
       "      <th>teamID</th>\n",
       "    </tr>\n",
       "  </thead>\n",
       "  <tbody>\n",
       "    <tr>\n",
       "      <th>0</th>\n",
       "      <td>BS1</td>\n",
       "    </tr>\n",
       "    <tr>\n",
       "      <th>1</th>\n",
       "      <td>CH1</td>\n",
       "    </tr>\n",
       "    <tr>\n",
       "      <th>2</th>\n",
       "      <td>CL1</td>\n",
       "    </tr>\n",
       "    <tr>\n",
       "      <th>3</th>\n",
       "      <td>FW1</td>\n",
       "    </tr>\n",
       "    <tr>\n",
       "      <th>4</th>\n",
       "      <td>NY2</td>\n",
       "    </tr>\n",
       "  </tbody>\n",
       "</table>\n",
       "</div>"
      ],
      "text/plain": [
       "  teamID\n",
       "0    BS1\n",
       "1    CH1\n",
       "2    CL1\n",
       "3    FW1\n",
       "4    NY2"
      ]
     },
     "execution_count": 19,
     "metadata": {},
     "output_type": "execute_result"
    }
   ],
   "source": [
    "sql_dataframe_0 = pd.read_sql_query(\"\"\"SELECT teamID\n",
    "                                FROM Teams\n",
    "                                LIMIT 5\n",
    "                                \"\"\",\n",
    "                                con)\n",
    "\n",
    "sql_dataframe_0"
   ]
  },
  {
   "cell_type": "markdown",
   "metadata": {},
   "source": [
    "### Finding Avgerage\n",
    "\n",
    "'ROUND' - A round function\n",
    "\n",
    "'cast' - Converts a value to a new datatype\n",
    "\n",
    "'ORDER BY' - Use to sort the results\n",
    "\n",
    "'DESC' - Use to order by a descending order"
   ]
  },
  {
   "cell_type": "code",
   "execution_count": 20,
   "metadata": {},
   "outputs": [
    {
     "data": {
      "text/html": [
       "<div>\n",
       "<style scoped>\n",
       "    .dataframe tbody tr th:only-of-type {\n",
       "        vertical-align: middle;\n",
       "    }\n",
       "\n",
       "    .dataframe tbody tr th {\n",
       "        vertical-align: top;\n",
       "    }\n",
       "\n",
       "    .dataframe thead th {\n",
       "        text-align: right;\n",
       "    }\n",
       "</style>\n",
       "<table border=\"1\" class=\"dataframe\">\n",
       "  <thead>\n",
       "    <tr style=\"text-align: right;\">\n",
       "      <th></th>\n",
       "      <th>playerID</th>\n",
       "      <th>yearID</th>\n",
       "      <th>Batting Average</th>\n",
       "    </tr>\n",
       "  </thead>\n",
       "  <tbody>\n",
       "    <tr>\n",
       "      <th>0</th>\n",
       "      <td>ansonca01</td>\n",
       "      <td>1871</td>\n",
       "      <td>9.131</td>\n",
       "    </tr>\n",
       "    <tr>\n",
       "      <th>1</th>\n",
       "      <td>cobbty01</td>\n",
       "      <td>1905</td>\n",
       "      <td>8.663</td>\n",
       "    </tr>\n",
       "    <tr>\n",
       "      <th>2</th>\n",
       "      <td>henderi01</td>\n",
       "      <td>1979</td>\n",
       "      <td>7.376</td>\n",
       "    </tr>\n",
       "    <tr>\n",
       "      <th>3</th>\n",
       "      <td>rosepe01</td>\n",
       "      <td>1963</td>\n",
       "      <td>7.152</td>\n",
       "    </tr>\n",
       "    <tr>\n",
       "      <th>4</th>\n",
       "      <td>speaktr01</td>\n",
       "      <td>1908</td>\n",
       "      <td>7.104</td>\n",
       "    </tr>\n",
       "  </tbody>\n",
       "</table>\n",
       "</div>"
      ],
      "text/plain": [
       "    playerID  yearID  Batting Average\n",
       "0  ansonca01    1871            9.131\n",
       "1   cobbty01    1905            8.663\n",
       "2  henderi01    1979            7.376\n",
       "3   rosepe01    1963            7.152\n",
       "4  speaktr01    1908            7.104"
      ]
     },
     "execution_count": 20,
     "metadata": {},
     "output_type": "execute_result"
    }
   ],
   "source": [
    "sql_dataframe_2 = pd.read_sql_query(\"\"\"SELECT playerID, yearID, ROUND(sum((cast(H as real) / ab)), 3) AS \"Batting Average\" \n",
    "                            FROM Batting\n",
    "                            WHERE ab >= 100\n",
    "                            GROUP BY playerID\n",
    "                            ORDER BY \"Batting Average\" DESC, playerID\n",
    "                            LIMIT 5\n",
    "                            \"\"\",\n",
    "                            con)\n",
    "\n",
    "sql_dataframe_2"
   ]
  },
  {
   "cell_type": "markdown",
   "metadata": {},
   "source": [
    "### SQL to Altair\n",
    "\n",
    "'SUM' - is a sum function for sql\n",
    "\n",
    "'AS' - Renaming the column\n",
    "\n",
    "'WHERE' - Specifying data you want to use\n",
    "\n",
    "'OR' - standard or function\n",
    "\n",
    "'GROUP BY' - filtering by a column"
   ]
  },
  {
   "cell_type": "code",
   "execution_count": 21,
   "metadata": {},
   "outputs": [
    {
     "data": {
      "text/html": [
       "<div>\n",
       "<style scoped>\n",
       "    .dataframe tbody tr th:only-of-type {\n",
       "        vertical-align: middle;\n",
       "    }\n",
       "\n",
       "    .dataframe tbody tr th {\n",
       "        vertical-align: top;\n",
       "    }\n",
       "\n",
       "    .dataframe thead th {\n",
       "        text-align: right;\n",
       "    }\n",
       "</style>\n",
       "<table border=\"1\" class=\"dataframe\">\n",
       "  <thead>\n",
       "    <tr style=\"text-align: right;\">\n",
       "      <th></th>\n",
       "      <th>teamID</th>\n",
       "      <th>Total Games Won</th>\n",
       "    </tr>\n",
       "  </thead>\n",
       "  <tbody>\n",
       "    <tr>\n",
       "      <th>0</th>\n",
       "      <td>ALT</td>\n",
       "      <td>6</td>\n",
       "    </tr>\n",
       "    <tr>\n",
       "      <th>1</th>\n",
       "      <td>BFN</td>\n",
       "      <td>314</td>\n",
       "    </tr>\n",
       "  </tbody>\n",
       "</table>\n",
       "</div>"
      ],
      "text/plain": [
       "  teamID  Total Games Won\n",
       "0    ALT                6\n",
       "1    BFN              314"
      ]
     },
     "execution_count": 21,
     "metadata": {},
     "output_type": "execute_result"
    }
   ],
   "source": [
    "sql_dataframe_1 = pd.read_sql_query(\"\"\"SELECT teamID, SUM(W) AS \"Total Games Won\"\n",
    "                            FROM Teams\n",
    "                            WHERE teamID = \"ALT\" OR teamID = \"BFN\"\n",
    "                            GROUP BY teamID\n",
    "                            LIMIT 10\n",
    "                            \"\"\",\n",
    "                            con)\n",
    "\n",
    "sql_dataframe_1"
   ]
  },
  {
   "cell_type": "markdown",
   "metadata": {},
   "source": [
    "#### Chart Creation\n",
    "\n",
    "Use altair to creat a chart that was created by SQl"
   ]
  },
  {
   "cell_type": "code",
   "execution_count": 22,
   "metadata": {},
   "outputs": [
    {
     "data": {
      "text/html": [
       "\n",
       "<div id=\"altair-viz-1f07395ddf1f43248d900efeaffa2102\"></div>\n",
       "<script type=\"text/javascript\">\n",
       "  var VEGA_DEBUG = (typeof VEGA_DEBUG == \"undefined\") ? {} : VEGA_DEBUG;\n",
       "  (function(spec, embedOpt){\n",
       "    let outputDiv = document.currentScript.previousElementSibling;\n",
       "    if (outputDiv.id !== \"altair-viz-1f07395ddf1f43248d900efeaffa2102\") {\n",
       "      outputDiv = document.getElementById(\"altair-viz-1f07395ddf1f43248d900efeaffa2102\");\n",
       "    }\n",
       "    const paths = {\n",
       "      \"vega\": \"https://cdn.jsdelivr.net/npm//vega@5?noext\",\n",
       "      \"vega-lib\": \"https://cdn.jsdelivr.net/npm//vega-lib?noext\",\n",
       "      \"vega-lite\": \"https://cdn.jsdelivr.net/npm//vega-lite@4.17.0?noext\",\n",
       "      \"vega-embed\": \"https://cdn.jsdelivr.net/npm//vega-embed@6?noext\",\n",
       "    };\n",
       "\n",
       "    function maybeLoadScript(lib, version) {\n",
       "      var key = `${lib.replace(\"-\", \"\")}_version`;\n",
       "      return (VEGA_DEBUG[key] == version) ?\n",
       "        Promise.resolve(paths[lib]) :\n",
       "        new Promise(function(resolve, reject) {\n",
       "          var s = document.createElement('script');\n",
       "          document.getElementsByTagName(\"head\")[0].appendChild(s);\n",
       "          s.async = true;\n",
       "          s.onload = () => {\n",
       "            VEGA_DEBUG[key] = version;\n",
       "            return resolve(paths[lib]);\n",
       "          };\n",
       "          s.onerror = () => reject(`Error loading script: ${paths[lib]}`);\n",
       "          s.src = paths[lib];\n",
       "        });\n",
       "    }\n",
       "\n",
       "    function showError(err) {\n",
       "      outputDiv.innerHTML = `<div class=\"error\" style=\"color:red;\">${err}</div>`;\n",
       "      throw err;\n",
       "    }\n",
       "\n",
       "    function displayChart(vegaEmbed) {\n",
       "      vegaEmbed(outputDiv, spec, embedOpt)\n",
       "        .catch(err => showError(`Javascript Error: ${err.message}<br>This usually means there's a typo in your chart specification. See the javascript console for the full traceback.`));\n",
       "    }\n",
       "\n",
       "    if(typeof define === \"function\" && define.amd) {\n",
       "      requirejs.config({paths});\n",
       "      require([\"vega-embed\"], displayChart, err => showError(`Error loading script: ${err.message}`));\n",
       "    } else {\n",
       "      maybeLoadScript(\"vega\", \"5\")\n",
       "        .then(() => maybeLoadScript(\"vega-lite\", \"4.17.0\"))\n",
       "        .then(() => maybeLoadScript(\"vega-embed\", \"6\"))\n",
       "        .catch(showError)\n",
       "        .then(() => displayChart(vegaEmbed));\n",
       "    }\n",
       "  })({\"config\": {\"view\": {\"continuousWidth\": 400, \"continuousHeight\": 300}}, \"data\": {\"url\": \"altair-data-4914c84e66d062f06cd92dbdf096ec18.json\", \"format\": {\"type\": \"json\"}}, \"mark\": \"bar\", \"encoding\": {\"color\": {\"field\": \"teamID\", \"type\": \"nominal\"}, \"x\": {\"field\": \"teamID\", \"type\": \"nominal\"}, \"y\": {\"field\": \"Total Games Won\", \"type\": \"quantitative\"}}, \"$schema\": \"https://vega.github.io/schema/vega-lite/v4.17.0.json\"}, {\"mode\": \"vega-lite\"});\n",
       "</script>"
      ],
      "text/plain": [
       "alt.Chart(...)"
      ]
     },
     "execution_count": 22,
     "metadata": {},
     "output_type": "execute_result"
    }
   ],
   "source": [
    "sql_chart_0 = (alt.Chart(sql_dataframe_1)\n",
    "    .encode(\n",
    "        x= alt.X('teamID'),\n",
    "        y= alt.Y('Total Games Won'),\n",
    "        color= 'teamID'\n",
    "    ).mark_bar())\n",
    "\n",
    "# Saving the chart as a png\n",
    "sql_chart_0.save(\"screenshots/sql_chart_0.png\")\n",
    "\n",
    "sql_chart_0"
   ]
  },
  {
   "cell_type": "markdown",
   "metadata": {},
   "source": [
    "# Markdown Notes"
   ]
  },
  {
   "cell_type": "markdown",
   "metadata": {},
   "source": [
    "#### Printing tables to MD\n",
    "\n",
    "Use the to_markdown() functions"
   ]
  },
  {
   "cell_type": "code",
   "execution_count": 23,
   "metadata": {},
   "outputs": [
    {
     "name": "stdout",
     "output_type": "stream",
     "text": [
      "|    | teamID   |\n",
      "|---:|:---------|\n",
      "|  0 | BS1      |\n",
      "|  1 | CH1      |\n",
      "|  2 | CL1      |\n",
      "|  3 | FW1      |\n",
      "|  4 | NY2      |\n"
     ]
    }
   ],
   "source": [
    "print(sql_dataframe_0.to_markdown())"
   ]
  }
 ],
 "metadata": {
  "interpreter": {
   "hash": "7479411c3953282544f6e208cdaeff71f6abbf3f31e607edcac1d480518af4ab"
  },
  "kernelspec": {
   "display_name": "Python 3.9.0 64-bit",
   "language": "python",
   "name": "python3"
  },
  "language_info": {
   "codemirror_mode": {
    "name": "ipython",
    "version": 3
   },
   "file_extension": ".py",
   "mimetype": "text/x-python",
   "name": "python",
   "nbconvert_exporter": "python",
   "pygments_lexer": "ipython3",
   "version": "3.9.0"
  },
  "orig_nbformat": 4
 },
 "nbformat": 4,
 "nbformat_minor": 2
}
