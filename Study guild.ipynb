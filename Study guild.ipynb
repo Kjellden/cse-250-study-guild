{
 "cells": [
  {
   "cell_type": "code",

   "execution_count": 96,

   "metadata": {},
   "outputs": [],
   "source": [
    "import pandas as pd\n",
    "import altair as alt\n",
    "import numpy as np\n",
    "\n",
    "import sqlite3 as sql\n",
    "\n",
    "import json\n",
    "\n",
    "# Use to handle large amount of data\n",
    "# alt.data_transformers.enable('json')"
   ]
  },
  {
   "cell_type": "code",
_count": 7
   "execution_count": 97,

   "metadata": {},
   "outputs": [],
   "source": [
    "# Machine learning model\n",
    "from sklearn import metrics\n",
    "from sklearn.tree import DecisionTreeClassifier\n",
    "from sklearn.model_selection import train_test_split"
   ]
  },
  {
   "cell_type": "markdown",
   "metadata": {},
   "source": [
    "# Data sets used\n",
    "These are the data sets used in the outline for the examples code."
   ]
  },
  {
   "cell_type": "code",

   "execution_count": 8,

   "metadata": {},
   "outputs": [],
   "source": [
    "cars_url = \"https://github.com/byuidatascience/data4missing/raw/master/data-raw/mtcars_missing/mtcars_missing.json\" # this gets the cars data from this url\n",
    "car_db = pd.read_json(cars_url) # uses pandas read_json command to open the data set in pandas format\n",
    "\n",

    "con = sql.connect(\"lahmansbaseballdb.sqlite\") # allows you to us the sql data set\n",
    "\n",
    "# Machine Learning data set\n",
    "dw_ml = pd.read_csv(\"https://github.com/byuidatascience/data4dwellings/raw/master/data-raw/dwellings_ml/dwellings_ml.csv\")\n"

    "names_url = \"names_year.csv\"\n",
    "names_db = pd.read_csv(names_url)\n",
    "alt.data_transformers.enable('json')\n",
    "\n",
    "con = sql.connect(\"lahmansbaseballdb.sqlite\") # allows you to us the sql data set"

   ]
  },
  {
   "cell_type": "markdown",
   "metadata": {},
   "source": [
    "# Line chat \n",
    "how to get a line chat to show up in alt air"
   ]
  },
  {
   "cell_type": "code",
   "execution_count": 99,
   "metadata": {},
   "outputs": [
    {
     "data": {
      "text/html": [
       "\n",
       "<div id=\"altair-viz-470e64b294694dcbb7d34622aed44145\"></div>\n",
       "<script type=\"text/javascript\">\n",
       "  var VEGA_DEBUG = (typeof VEGA_DEBUG == \"undefined\") ? {} : VEGA_DEBUG;\n",
       "  (function(spec, embedOpt){\n",
       "    let outputDiv = document.currentScript.previousElementSibling;\n",
       "    if (outputDiv.id !== \"altair-viz-470e64b294694dcbb7d34622aed44145\") {\n",
       "      outputDiv = document.getElementById(\"altair-viz-470e64b294694dcbb7d34622aed44145\");\n",
       "    }\n",
       "    const paths = {\n",
       "      \"vega\": \"https://cdn.jsdelivr.net/npm//vega@5?noext\",\n",
       "      \"vega-lib\": \"https://cdn.jsdelivr.net/npm//vega-lib?noext\",\n",
       "      \"vega-lite\": \"https://cdn.jsdelivr.net/npm//vega-lite@4.17.0?noext\",\n",
       "      \"vega-embed\": \"https://cdn.jsdelivr.net/npm//vega-embed@6?noext\",\n",
       "    };\n",
       "\n",
       "    function maybeLoadScript(lib, version) {\n",
       "      var key = `${lib.replace(\"-\", \"\")}_version`;\n",
       "      return (VEGA_DEBUG[key] == version) ?\n",
       "        Promise.resolve(paths[lib]) :\n",
       "        new Promise(function(resolve, reject) {\n",
       "          var s = document.createElement('script');\n",
       "          document.getElementsByTagName(\"head\")[0].appendChild(s);\n",
       "          s.async = true;\n",
       "          s.onload = () => {\n",
       "            VEGA_DEBUG[key] = version;\n",
       "            return resolve(paths[lib]);\n",
       "          };\n",
       "          s.onerror = () => reject(`Error loading script: ${paths[lib]}`);\n",
       "          s.src = paths[lib];\n",
       "        });\n",
       "    }\n",
       "\n",
       "    function showError(err) {\n",
       "      outputDiv.innerHTML = `<div class=\"error\" style=\"color:red;\">${err}</div>`;\n",
       "      throw err;\n",
       "    }\n",
       "\n",
       "    function displayChart(vegaEmbed) {\n",
       "      vegaEmbed(outputDiv, spec, embedOpt)\n",
       "        .catch(err => showError(`Javascript Error: ${err.message}<br>This usually means there's a typo in your chart specification. See the javascript console for the full traceback.`));\n",
       "    }\n",
       "\n",
       "    if(typeof define === \"function\" && define.amd) {\n",
       "      requirejs.config({paths});\n",
       "      require([\"vega-embed\"], displayChart, err => showError(`Error loading script: ${err.message}`));\n",
       "    } else {\n",
       "      maybeLoadScript(\"vega\", \"5\")\n",
       "        .then(() => maybeLoadScript(\"vega-lite\", \"4.17.0\"))\n",
       "        .then(() => maybeLoadScript(\"vega-embed\", \"6\"))\n",
       "        .catch(showError)\n",
       "        .then(() => displayChart(vegaEmbed));\n",
       "    }\n",
       "  })({\"config\": {\"view\": {\"continuousWidth\": 400, \"continuousHeight\": 300}}, \"data\": {\"url\": \"altair-data-929531779a4ba672ec4d193067b126e5.json\", \"format\": {\"type\": \"json\"}}, \"mark\": \"line\", \"encoding\": {\"color\": {\"field\": \"name\", \"type\": \"nominal\"}, \"x\": {\"field\": \"year\", \"title\": \"year of use\", \"type\": \"ordinal\"}, \"y\": {\"field\": \"WA\", \"title\": \"Num times name was used\", \"type\": \"quantitative\"}}, \"title\": \"names from Washington line chart\", \"$schema\": \"https://vega.github.io/schema/vega-lite/v4.17.0.json\"}, {\"mode\": \"vega-lite\"});\n",
       "</script>"
      ],
      "text/plain": [
       "alt.Chart(...)"
      ]
     },
     "execution_count": 99,
     "metadata": {},
     "output_type": "execute_result"
    }
   ],
   "source": [
    "all_names_wa= names_db.filter([\"name\", \"year\", \"WA\"])\n",
    "name_list = [\"Aarna\", \"Aaden\", \"Sheldon\", \"Nathan\", \"Ben\"]\n",
    "all_names_wa = names_db.query(\"name == @name_list\")\n",
    "all_names_wa_chart = (alt.Chart(all_names_wa, title = \"names from Washington line chart\")\n",
    "                      .mark_line()\n",
    "                      .encode(\n",
    "                          x = alt.X(\"year:O\", title= \"year of use\"), # use the :O to make the numbers not have a , in them\n",
    "                          y = alt.Y(\"WA\", title= \"Num times name was used\"),\n",
    "                          color = \"name\"\n",
    "                      )\n",
    "                      )\n",
    "all_names_wa_chart"
   ]
  },
  {
   "cell_type": "markdown",
   "metadata": {},
   "source": [
    "# line chart templet\n",
    "all_names_wa_chart = (alt.Chart(, title = \"\")\n",
    "                      .mark_line()\n",
    "                      .encode(\n",
    "                          x = alt.X(\"\", title= \"\"), \n",
    "                          y = alt.Y(\"WA\", title= \"\"),\n",
    "                          color = \"name\")\n",
    "                          )"
   ]
  },
  {
   "cell_type": "markdown",
   "metadata": {},
   "source": [
    "# bar chart "
   ]
  },
  {
   "cell_type": "code",
   "execution_count": 100,
   "metadata": {},
   "outputs": [
    {
     "data": {
      "text/html": [
       "\n",
       "<div id=\"altair-viz-c2262ac769674a5e96fe843e849b40d3\"></div>\n",
       "<script type=\"text/javascript\">\n",
       "  var VEGA_DEBUG = (typeof VEGA_DEBUG == \"undefined\") ? {} : VEGA_DEBUG;\n",
       "  (function(spec, embedOpt){\n",
       "    let outputDiv = document.currentScript.previousElementSibling;\n",
       "    if (outputDiv.id !== \"altair-viz-c2262ac769674a5e96fe843e849b40d3\") {\n",
       "      outputDiv = document.getElementById(\"altair-viz-c2262ac769674a5e96fe843e849b40d3\");\n",
       "    }\n",
       "    const paths = {\n",
       "      \"vega\": \"https://cdn.jsdelivr.net/npm//vega@5?noext\",\n",
       "      \"vega-lib\": \"https://cdn.jsdelivr.net/npm//vega-lib?noext\",\n",
       "      \"vega-lite\": \"https://cdn.jsdelivr.net/npm//vega-lite@4.17.0?noext\",\n",
       "      \"vega-embed\": \"https://cdn.jsdelivr.net/npm//vega-embed@6?noext\",\n",
       "    };\n",
       "\n",
       "    function maybeLoadScript(lib, version) {\n",
       "      var key = `${lib.replace(\"-\", \"\")}_version`;\n",
       "      return (VEGA_DEBUG[key] == version) ?\n",
       "        Promise.resolve(paths[lib]) :\n",
       "        new Promise(function(resolve, reject) {\n",
       "          var s = document.createElement('script');\n",
       "          document.getElementsByTagName(\"head\")[0].appendChild(s);\n",
       "          s.async = true;\n",
       "          s.onload = () => {\n",
       "            VEGA_DEBUG[key] = version;\n",
       "            return resolve(paths[lib]);\n",
       "          };\n",
       "          s.onerror = () => reject(`Error loading script: ${paths[lib]}`);\n",
       "          s.src = paths[lib];\n",
       "        });\n",
       "    }\n",
       "\n",
       "    function showError(err) {\n",
       "      outputDiv.innerHTML = `<div class=\"error\" style=\"color:red;\">${err}</div>`;\n",
       "      throw err;\n",
       "    }\n",
       "\n",
       "    function displayChart(vegaEmbed) {\n",
       "      vegaEmbed(outputDiv, spec, embedOpt)\n",
       "        .catch(err => showError(`Javascript Error: ${err.message}<br>This usually means there's a typo in your chart specification. See the javascript console for the full traceback.`));\n",
       "    }\n",
       "\n",
       "    if(typeof define === \"function\" && define.amd) {\n",
       "      requirejs.config({paths});\n",
       "      require([\"vega-embed\"], displayChart, err => showError(`Error loading script: ${err.message}`));\n",
       "    } else {\n",
       "      maybeLoadScript(\"vega\", \"5\")\n",
       "        .then(() => maybeLoadScript(\"vega-lite\", \"4.17.0\"))\n",
       "        .then(() => maybeLoadScript(\"vega-embed\", \"6\"))\n",
       "        .catch(showError)\n",
       "        .then(() => displayChart(vegaEmbed));\n",
       "    }\n",
       "  })({\"config\": {\"view\": {\"continuousWidth\": 400, \"continuousHeight\": 300}}, \"data\": {\"url\": \"altair-data-e7bcb3db2baa72b515ffce4dafa14775.json\", \"format\": {\"type\": \"json\"}}, \"mark\": \"bar\", \"encoding\": {\"x\": {\"field\": \"name\", \"title\": \"names\", \"type\": \"nominal\"}, \"y\": {\"field\": \"sum_name_use\", \"title\": \"sum_use\", \"type\": \"quantitative\"}}, \"title\": \"names in washington bar chart\", \"$schema\": \"https://vega.github.io/schema/vega-lite/v4.17.0.json\"}, {\"mode\": \"vega-lite\"});\n",
       "</script>"
      ],
      "text/plain": [
       "alt.Chart(...)"
      ]
     },
     "execution_count": 100,
     "metadata": {},
     "output_type": "execute_result"
    }
   ],
   "source": [
    "bar_names = names_db.copy()\n",
    "bar_names = bar_names.filter([\"name\", \"year\", \"WA\"])\n",
    "name_list = [\"Aarna\", \"Aaden\", \"Sheldon\", \"Nathan\", \"Ben\"]\n",
    "bar_names = bar_names.query(\"name == @name_list\")\n",
    "\n",
    "bar_names = bar_names.groupby(\"name\").agg(\n",
    "    avg_num_name_use_per_year = (\"WA\", np.mean),\n",
    "    sum_name_use = (\"WA\", np.sum)\n",
    ").reset_index().round(0)\n",
    "\n",
    "bar_names_chart = (alt.Chart(bar_names, title  = \"names in washington bar chart\")\n",
    "                   .mark_bar()\n",
    "                   .encode(\n",
    "                       x = alt.X(\"name\", title = \"names\"),\n",
    "                       y = alt.Y(\"sum_name_use\", title= \"sum_use\")\n",
    "                   ))\n",
    "bar_names_chart\n"
   ]
  },
  {
   "cell_type": "markdown",
   "metadata": {},
   "source": [
    "# bar chart templet\n",
    " = (alt.Chart(, title  = \"\")\n",
    "                   .mark_bar()\n",
    "                   .encode(\n",
    "                       x = alt.X(\"\", title = \"\"),\n",
    "                       y = alt.Y(\"\", title= \"\")\n",
    "                   ))"
   ]
  },
  {
   "cell_type": "markdown",
   "metadata": {},
   "source": [
    "# adding avg line and adding text\n",
    "We will use the chart from bar chart for this example"
   ]
  },
  {
   "cell_type": "code",
   "execution_count": 101,
   "metadata": {},
   "outputs": [
    {
     "data": {
      "text/html": [
       "\n",
       "<div id=\"altair-viz-0e43f1f59f0e4a27b489fc2856032586\"></div>\n",
       "<script type=\"text/javascript\">\n",
       "  var VEGA_DEBUG = (typeof VEGA_DEBUG == \"undefined\") ? {} : VEGA_DEBUG;\n",
       "  (function(spec, embedOpt){\n",
       "    let outputDiv = document.currentScript.previousElementSibling;\n",
       "    if (outputDiv.id !== \"altair-viz-0e43f1f59f0e4a27b489fc2856032586\") {\n",
       "      outputDiv = document.getElementById(\"altair-viz-0e43f1f59f0e4a27b489fc2856032586\");\n",
       "    }\n",
       "    const paths = {\n",
       "      \"vega\": \"https://cdn.jsdelivr.net/npm//vega@5?noext\",\n",
       "      \"vega-lib\": \"https://cdn.jsdelivr.net/npm//vega-lib?noext\",\n",
       "      \"vega-lite\": \"https://cdn.jsdelivr.net/npm//vega-lite@4.17.0?noext\",\n",
       "      \"vega-embed\": \"https://cdn.jsdelivr.net/npm//vega-embed@6?noext\",\n",
       "    };\n",
       "\n",
       "    function maybeLoadScript(lib, version) {\n",
       "      var key = `${lib.replace(\"-\", \"\")}_version`;\n",
       "      return (VEGA_DEBUG[key] == version) ?\n",
       "        Promise.resolve(paths[lib]) :\n",
       "        new Promise(function(resolve, reject) {\n",
       "          var s = document.createElement('script');\n",
       "          document.getElementsByTagName(\"head\")[0].appendChild(s);\n",
       "          s.async = true;\n",
       "          s.onload = () => {\n",
       "            VEGA_DEBUG[key] = version;\n",
       "            return resolve(paths[lib]);\n",
       "          };\n",
       "          s.onerror = () => reject(`Error loading script: ${paths[lib]}`);\n",
       "          s.src = paths[lib];\n",
       "        });\n",
       "    }\n",
       "\n",
       "    function showError(err) {\n",
       "      outputDiv.innerHTML = `<div class=\"error\" style=\"color:red;\">${err}</div>`;\n",
       "      throw err;\n",
       "    }\n",
       "\n",
       "    function displayChart(vegaEmbed) {\n",
       "      vegaEmbed(outputDiv, spec, embedOpt)\n",
       "        .catch(err => showError(`Javascript Error: ${err.message}<br>This usually means there's a typo in your chart specification. See the javascript console for the full traceback.`));\n",
       "    }\n",
       "\n",
       "    if(typeof define === \"function\" && define.amd) {\n",
       "      requirejs.config({paths});\n",
       "      require([\"vega-embed\"], displayChart, err => showError(`Error loading script: ${err.message}`));\n",
       "    } else {\n",
       "      maybeLoadScript(\"vega\", \"5\")\n",
       "        .then(() => maybeLoadScript(\"vega-lite\", \"4.17.0\"))\n",
       "        .then(() => maybeLoadScript(\"vega-embed\", \"6\"))\n",
       "        .catch(showError)\n",
       "        .then(() => displayChart(vegaEmbed));\n",
       "    }\n",
       "  })({\"config\": {\"view\": {\"continuousWidth\": 400, \"continuousHeight\": 300}}, \"layer\": [{\"data\": {\"url\": \"altair-data-e7bcb3db2baa72b515ffce4dafa14775.json\", \"format\": {\"type\": \"json\"}}, \"mark\": \"bar\", \"encoding\": {\"x\": {\"field\": \"name\", \"title\": \"names\", \"type\": \"nominal\"}, \"y\": {\"field\": \"sum_name_use\", \"title\": \"sum_use\", \"type\": \"quantitative\"}}, \"title\": \"names in washington bar chart\"}, {\"data\": {\"url\": \"altair-data-a0371093fd1a3a02cc8550c62958b198.json\", \"format\": {\"type\": \"json\"}}, \"mark\": {\"type\": \"line\", \"color\": \"RED\"}, \"encoding\": {\"x\": {\"field\": \"name\", \"type\": \"nominal\"}, \"y\": {\"field\": \"avg_name_use_over_all\", \"type\": \"quantitative\"}}}, {\"data\": {\"url\": \"altair-data-e7bcb3db2baa72b515ffce4dafa14775.json\", \"format\": {\"type\": \"json\"}}, \"mark\": {\"type\": \"text\", \"angle\": 90, \"dx\": -15}, \"encoding\": {\"text\": {\"field\": \"sum_name_use\", \"type\": \"quantitative\"}, \"x\": {\"field\": \"name\", \"title\": \"names\", \"type\": \"nominal\"}, \"y\": {\"field\": \"sum_name_use\", \"title\": \"sum_use\", \"type\": \"quantitative\"}}, \"title\": \"names in washington bar chart\"}], \"$schema\": \"https://vega.github.io/schema/vega-lite/v4.17.0.json\"}, {\"mode\": \"vega-lite\"});\n",
       "</script>"
      ],
      "text/plain": [
       "alt.LayerChart(...)"
      ]
     },
     "execution_count": 101,
     "metadata": {},
     "output_type": "execute_result"
    }
   ],
   "source": [
    "bar_names = names_db.copy()\n",
    "bar_names = bar_names.filter([\"name\", \"year\", \"WA\"])\n",
    "name_list = [\"Aarna\", \"Aaden\", \"Sheldon\", \"Nathan\", \"Ben\"]\n",
    "bar_names = bar_names.query(\"name == @name_list\")\n",
    "names_avg = (bar_names.WA.sum() / len(name_list)).round(0)\n",
    "bar_names = bar_names.assign(\n",
    "    avg_name_use_over_all = names_avg\n",
    ")\n",
    "bar_names\n",
    "\n",
    "avg_line = (alt.Chart(bar_names)\n",
    "            .mark_line(color= \"RED\")\n",
    "            .encode(\n",
    "                x= alt.X(\"name\"),\n",
    "                y = alt.Y(\"avg_name_use_over_all\")\n",
    "            ))\n",
    "\n",
    "bar_text = bar_names_chart.mark_text(\n",
    "    angle = 90,\n",
    "    dx = -15\n",
    "    ).encode(\n",
    "    text = alt.Text(\"sum_name_use:Q\")\n",
    ")\n",
    "\n",
    "\n",
    "bar_names_chart + avg_line + bar_text  # add the charts in the right order or it will not work right\n"
   ]
  },
  {
   "cell_type": "markdown",
   "metadata": {},
   "source": [
    "# show %\n",
    "on the axis you want to show in % use format= (\",.0%\") in side of alt.X OR alt.Y or you could use axis=alt.Axis(format='%') also inside alt.X or alt.Y"
   ]
  },
  {
   "cell_type": "markdown",
   "metadata": {},
   "source": [
    "# coding challenge\n"
   ]
  },
  {
   "cell_type": "code",
   "execution_count": 107,
   "metadata": {},
   "outputs": [
    {
     "data": {
      "text/html": [
       "\n",
       "<div id=\"altair-viz-af65528415094722b220ca1621c6f655\"></div>\n",
       "<script type=\"text/javascript\">\n",
       "  var VEGA_DEBUG = (typeof VEGA_DEBUG == \"undefined\") ? {} : VEGA_DEBUG;\n",
       "  (function(spec, embedOpt){\n",
       "    let outputDiv = document.currentScript.previousElementSibling;\n",
       "    if (outputDiv.id !== \"altair-viz-af65528415094722b220ca1621c6f655\") {\n",
       "      outputDiv = document.getElementById(\"altair-viz-af65528415094722b220ca1621c6f655\");\n",
       "    }\n",
       "    const paths = {\n",
       "      \"vega\": \"https://cdn.jsdelivr.net/npm//vega@5?noext\",\n",
       "      \"vega-lib\": \"https://cdn.jsdelivr.net/npm//vega-lib?noext\",\n",
       "      \"vega-lite\": \"https://cdn.jsdelivr.net/npm//vega-lite@4.17.0?noext\",\n",
       "      \"vega-embed\": \"https://cdn.jsdelivr.net/npm//vega-embed@6?noext\",\n",
       "    };\n",
       "\n",
       "    function maybeLoadScript(lib, version) {\n",
       "      var key = `${lib.replace(\"-\", \"\")}_version`;\n",
       "      return (VEGA_DEBUG[key] == version) ?\n",
       "        Promise.resolve(paths[lib]) :\n",
       "        new Promise(function(resolve, reject) {\n",
       "          var s = document.createElement('script');\n",
       "          document.getElementsByTagName(\"head\")[0].appendChild(s);\n",
       "          s.async = true;\n",
       "          s.onload = () => {\n",
       "            VEGA_DEBUG[key] = version;\n",
       "            return resolve(paths[lib]);\n",
       "          };\n",
       "          s.onerror = () => reject(`Error loading script: ${paths[lib]}`);\n",
       "          s.src = paths[lib];\n",
       "        });\n",
       "    }\n",
       "\n",
       "    function showError(err) {\n",
       "      outputDiv.innerHTML = `<div class=\"error\" style=\"color:red;\">${err}</div>`;\n",
       "      throw err;\n",
       "    }\n",
       "\n",
       "    function displayChart(vegaEmbed) {\n",
       "      vegaEmbed(outputDiv, spec, embedOpt)\n",
       "        .catch(err => showError(`Javascript Error: ${err.message}<br>This usually means there's a typo in your chart specification. See the javascript console for the full traceback.`));\n",
       "    }\n",
       "\n",
       "    if(typeof define === \"function\" && define.amd) {\n",
       "      requirejs.config({paths});\n",
       "      require([\"vega-embed\"], displayChart, err => showError(`Error loading script: ${err.message}`));\n",
       "    } else {\n",
       "      maybeLoadScript(\"vega\", \"5\")\n",
       "        .then(() => maybeLoadScript(\"vega-lite\", \"4.17.0\"))\n",
       "        .then(() => maybeLoadScript(\"vega-embed\", \"6\"))\n",
       "        .catch(showError)\n",
       "        .then(() => displayChart(vegaEmbed));\n",
       "    }\n",
       "  })({\"config\": {\"view\": {\"continuousWidth\": 400, \"continuousHeight\": 300}, \"title\": {\"anchor\": \"start\", \"fontSize\": 20, \"offset\": 5, \"orient\": \"top\"}}, \"data\": {\"url\": \"altair-data-47d0587d7dda54c8af36e53817c11c4c.json\", \"format\": {\"type\": \"json\"}}, \"mark\": \"circle\", \"encoding\": {\"x\": {\"field\": \"hp\", \"scale\": {\"domain\": [0, 170]}, \"title\": \"Horse Power\", \"type\": \"quantitative\"}, \"y\": {\"field\": \"mpg\", \"title\": \"Miles per Gallon\", \"type\": \"quantitative\"}}, \"title\": \"This is awesome.\", \"$schema\": \"https://vega.github.io/schema/vega-lite/v4.17.0.json\"}, {\"mode\": \"vega-lite\"});\n",
       "</script>"
      ],
      "text/plain": [
       "alt.Chart(...)"
      ]
     },
     "execution_count": 107,
     "metadata": {},
     "output_type": "execute_result"
    }
   ],
   "source": []
  },
  {
   "cell_type": "markdown",
   "metadata": {},
   "source": [
    "# SQL"
   ]
  },
  {
   "cell_type": "markdown",
   "metadata": {},
   "source": [
    "### SQL Template\n"
   ]
  },
  {
   "cell_type": "code",
   "execution_count": 9,
   "metadata": {},
   "outputs": [],
   "source": [
    "\n",
    "# dataframe_name = pd.read_sql_query(\"\"\"SELECT\n",
    "#                                     FROM\n",
    "#                                     \"\"\",\n",
    "#                                     database_name)\n"
   ]
  },
  {
   "cell_type": "markdown",
   "metadata": {},
   "source": [
    "### Explaing SQL\n",
    "\n",
    "'SELECT' - Saying what data you want to pull\n",
    "\n",
    "'*' - Pulls all tables\n",
    "\n",
    "'FROM' - Which table you want to pull from\n",
    "\n",
    "'fielding' - Table you are pulling from\n",
    "\n",
    "'LIMIT 5' - only show '5' rows\n",
    "\n",
    "con - sql database"
   ]
  },
  {
   "cell_type": "code",

   "execution_count": 10,

   "metadata": {},
   "outputs": [
    {
     "data": {
      "text/html": [
       "<div>\n",
       "<style scoped>\n",
       "    .dataframe tbody tr th:only-of-type {\n",
       "        vertical-align: middle;\n",
       "    }\n",
       "\n",
       "    .dataframe tbody tr th {\n",
       "        vertical-align: top;\n",
       "    }\n",
       "\n",
       "    .dataframe thead th {\n",
       "        text-align: right;\n",
       "    }\n",
       "</style>\n",
       "<table border=\"1\" class=\"dataframe\">\n",
       "  <thead>\n",
       "    <tr style=\"text-align: right;\">\n",
       "      <th></th>\n",
       "      <th>ID</th>\n",
       "      <th>playerID</th>\n",
       "      <th>yearID</th>\n",
       "      <th>stint</th>\n",
       "      <th>teamID</th>\n",
       "      <th>team_ID</th>\n",
       "      <th>lgID</th>\n",
       "      <th>POS</th>\n",
       "      <th>G</th>\n",
       "      <th>GS</th>\n",
       "      <th>InnOuts</th>\n",
       "      <th>PO</th>\n",
       "      <th>A</th>\n",
       "      <th>E</th>\n",
       "      <th>DP</th>\n",
       "      <th>PB</th>\n",
       "      <th>WP</th>\n",
       "      <th>SB</th>\n",
       "      <th>CS</th>\n",
       "      <th>ZR</th>\n",
       "    </tr>\n",
       "  </thead>\n",
       "  <tbody>\n",
       "    <tr>\n",
       "      <th>0</th>\n",
       "      <td>1</td>\n",
       "      <td>abercda01</td>\n",
       "      <td>1871</td>\n",
       "      <td>1</td>\n",
       "      <td>TRO</td>\n",
       "      <td>8</td>\n",
       "      <td>NA</td>\n",
       "      <td>SS</td>\n",
       "      <td>1</td>\n",
       "      <td>1</td>\n",
       "      <td>24</td>\n",
       "      <td>1</td>\n",
       "      <td>3</td>\n",
       "      <td>2</td>\n",
       "      <td>0</td>\n",
       "      <td>None</td>\n",
       "      <td>None</td>\n",
       "      <td>None</td>\n",
       "      <td>None</td>\n",
       "      <td>None</td>\n",
       "    </tr>\n",
       "    <tr>\n",
       "      <th>1</th>\n",
       "      <td>2</td>\n",
       "      <td>addybo01</td>\n",
       "      <td>1871</td>\n",
       "      <td>1</td>\n",
       "      <td>RC1</td>\n",
       "      <td>7</td>\n",
       "      <td>NA</td>\n",
       "      <td>2B</td>\n",
       "      <td>22</td>\n",
       "      <td>22</td>\n",
       "      <td>606</td>\n",
       "      <td>67</td>\n",
       "      <td>72</td>\n",
       "      <td>42</td>\n",
       "      <td>5</td>\n",
       "      <td>None</td>\n",
       "      <td>None</td>\n",
       "      <td>None</td>\n",
       "      <td>None</td>\n",
       "      <td>None</td>\n",
       "    </tr>\n",
       "    <tr>\n",
       "      <th>2</th>\n",
       "      <td>3</td>\n",
       "      <td>addybo01</td>\n",
       "      <td>1871</td>\n",
       "      <td>1</td>\n",
       "      <td>RC1</td>\n",
       "      <td>7</td>\n",
       "      <td>NA</td>\n",
       "      <td>SS</td>\n",
       "      <td>3</td>\n",
       "      <td>3</td>\n",
       "      <td>96</td>\n",
       "      <td>8</td>\n",
       "      <td>14</td>\n",
       "      <td>7</td>\n",
       "      <td>0</td>\n",
       "      <td>None</td>\n",
       "      <td>None</td>\n",
       "      <td>None</td>\n",
       "      <td>None</td>\n",
       "      <td>None</td>\n",
       "    </tr>\n",
       "    <tr>\n",
       "      <th>3</th>\n",
       "      <td>4</td>\n",
       "      <td>allisar01</td>\n",
       "      <td>1871</td>\n",
       "      <td>1</td>\n",
       "      <td>CL1</td>\n",
       "      <td>3</td>\n",
       "      <td>NA</td>\n",
       "      <td>2B</td>\n",
       "      <td>2</td>\n",
       "      <td>0</td>\n",
       "      <td>18</td>\n",
       "      <td>1</td>\n",
       "      <td>4</td>\n",
       "      <td>0</td>\n",
       "      <td>0</td>\n",
       "      <td>None</td>\n",
       "      <td>None</td>\n",
       "      <td>None</td>\n",
       "      <td>None</td>\n",
       "      <td>None</td>\n",
       "    </tr>\n",
       "    <tr>\n",
       "      <th>4</th>\n",
       "      <td>5</td>\n",
       "      <td>allisar01</td>\n",
       "      <td>1871</td>\n",
       "      <td>1</td>\n",
       "      <td>CL1</td>\n",
       "      <td>3</td>\n",
       "      <td>NA</td>\n",
       "      <td>OF</td>\n",
       "      <td>29</td>\n",
       "      <td>29</td>\n",
       "      <td>729</td>\n",
       "      <td>51</td>\n",
       "      <td>3</td>\n",
       "      <td>7</td>\n",
       "      <td>1</td>\n",
       "      <td>None</td>\n",
       "      <td>None</td>\n",
       "      <td>None</td>\n",
       "      <td>None</td>\n",
       "      <td>None</td>\n",
       "    </tr>\n",
       "  </tbody>\n",
       "</table>\n",
       "</div>"
      ],
      "text/plain": [
       "   ID   playerID  yearID  stint teamID  team_ID lgID POS   G  GS  InnOuts  PO  \\\n",
       "0   1  abercda01    1871      1    TRO        8   NA  SS   1   1       24   1   \n",
       "1   2   addybo01    1871      1    RC1        7   NA  2B  22  22      606  67   \n",
       "2   3   addybo01    1871      1    RC1        7   NA  SS   3   3       96   8   \n",
       "3   4  allisar01    1871      1    CL1        3   NA  2B   2   0       18   1   \n",
       "4   5  allisar01    1871      1    CL1        3   NA  OF  29  29      729  51   \n",
       "\n",
       "    A   E  DP    PB    WP    SB    CS    ZR  \n",
       "0   3   2   0  None  None  None  None  None  \n",
       "1  72  42   5  None  None  None  None  None  \n",
       "2  14   7   0  None  None  None  None  None  \n",
       "3   4   0   0  None  None  None  None  None  \n",
       "4   3   7   1  None  None  None  None  None  "
      ]
     },
     "execution_count": 10,

     "metadata": {},
     "output_type": "execute_result"
    }
   ],
   "source": [
    "df = pd.read_sql_query(\"\"\"SELECT * \n",
    "                        FROM fielding \n",
    "                        LIMIT 5\"\"\", con)\n",
    "df"
   ]
  },
  {
   "cell_type": "markdown",
   "metadata": {},
   "source": [
    "### Creating New Dataframe\n",
    "\n",
    "When creating a new dataframe query the data you need and set it to a new variable\n",
    "\n",
    "The LIMIT will effect the dataframe"
   ]
  },
  {
   "cell_type": "code",

   "execution_count": 11,

   "metadata": {},
   "outputs": [
    {
     "data": {
      "text/html": [
       "<div>\n",
       "<style scoped>\n",
       "    .dataframe tbody tr th:only-of-type {\n",
       "        vertical-align: middle;\n",
       "    }\n",
       "\n",
       "    .dataframe tbody tr th {\n",
       "        vertical-align: top;\n",
       "    }\n",
       "\n",
       "    .dataframe thead th {\n",
       "        text-align: right;\n",
       "    }\n",
       "</style>\n",
       "<table border=\"1\" class=\"dataframe\">\n",
       "  <thead>\n",
       "    <tr style=\"text-align: right;\">\n",
       "      <th></th>\n",
       "      <th>teamID</th>\n",
       "    </tr>\n",
       "  </thead>\n",
       "  <tbody>\n",
       "    <tr>\n",
       "      <th>0</th>\n",
       "      <td>BS1</td>\n",
       "    </tr>\n",
       "    <tr>\n",
       "      <th>1</th>\n",
       "      <td>CH1</td>\n",
       "    </tr>\n",
       "    <tr>\n",
       "      <th>2</th>\n",
       "      <td>CL1</td>\n",
       "    </tr>\n",
       "    <tr>\n",
       "      <th>3</th>\n",
       "      <td>FW1</td>\n",
       "    </tr>\n",
       "    <tr>\n",
       "      <th>4</th>\n",
       "      <td>NY2</td>\n",
       "    </tr>\n",
       "  </tbody>\n",
       "</table>\n",
       "</div>"
      ],
      "text/plain": [
       "  teamID\n",
       "0    BS1\n",
       "1    CH1\n",
       "2    CL1\n",
       "3    FW1\n",
       "4    NY2"
      ]
     },

     "execution_count": 11,

     "metadata": {},
     "output_type": "execute_result"
    }
   ],
   "source": [
    "sql_dataframe_0 = pd.read_sql_query(\"\"\"SELECT teamID\n",
    "                                FROM Teams\n",
    "                                LIMIT 5\n",
    "                                \"\"\",\n",
    "                                con)\n",
    "\n",
    "sql_dataframe_0"
   ]
  },
  {
   "cell_type": "markdown",
   "metadata": {},
   "source": [
    "### Finding Avgerage\n",
    "\n",
    "'ROUND' - A round function\n",
    "\n",
    "'cast' - Converts a value to a new datatype\n",
    "\n",
    "'ORDER BY' - Use to sort the results\n",
    "\n",
    "'DESC' - Use to order by a descending order"
   ]
  },
  {
   "cell_type": "code",

   "execution_count": 12,

   "metadata": {},
   "outputs": [
    {
     "data": {
      "text/html": [
       "<div>\n",
       "<style scoped>\n",
       "    .dataframe tbody tr th:only-of-type {\n",
       "        vertical-align: middle;\n",
       "    }\n",
       "\n",
       "    .dataframe tbody tr th {\n",
       "        vertical-align: top;\n",
       "    }\n",
       "\n",
       "    .dataframe thead th {\n",
       "        text-align: right;\n",
       "    }\n",
       "</style>\n",
       "<table border=\"1\" class=\"dataframe\">\n",
       "  <thead>\n",
       "    <tr style=\"text-align: right;\">\n",
       "      <th></th>\n",
       "      <th>playerID</th>\n",
       "      <th>yearID</th>\n",
       "      <th>Batting Average</th>\n",
       "    </tr>\n",
       "  </thead>\n",
       "  <tbody>\n",
       "    <tr>\n",
       "      <th>0</th>\n",
       "      <td>ansonca01</td>\n",
       "      <td>1871</td>\n",
       "      <td>9.131</td>\n",
       "    </tr>\n",
       "    <tr>\n",
       "      <th>1</th>\n",
       "      <td>cobbty01</td>\n",
       "      <td>1905</td>\n",
       "      <td>8.663</td>\n",
       "    </tr>\n",
       "    <tr>\n",
       "      <th>2</th>\n",
       "      <td>henderi01</td>\n",
       "      <td>1979</td>\n",
       "      <td>7.376</td>\n",
       "    </tr>\n",
       "    <tr>\n",
       "      <th>3</th>\n",
       "      <td>rosepe01</td>\n",
       "      <td>1963</td>\n",
       "      <td>7.152</td>\n",
       "    </tr>\n",
       "    <tr>\n",
       "      <th>4</th>\n",
       "      <td>speaktr01</td>\n",
       "      <td>1908</td>\n",
       "      <td>7.104</td>\n",
       "    </tr>\n",
       "  </tbody>\n",
       "</table>\n",
       "</div>"
      ],
      "text/plain": [
       "    playerID  yearID  Batting Average\n",
       "0  ansonca01    1871            9.131\n",
       "1   cobbty01    1905            8.663\n",
       "2  henderi01    1979            7.376\n",
       "3   rosepe01    1963            7.152\n",
       "4  speaktr01    1908            7.104"
      ]
     },

     "execution_count": 12,

     "metadata": {},
     "output_type": "execute_result"
    }
   ],
   "source": [
    "sql_dataframe_2 = pd.read_sql_query(\"\"\"SELECT playerID, yearID, ROUND(sum((cast(H as real) / ab)), 3) AS \"Batting Average\" \n",
    "                            FROM Batting\n",
    "                            WHERE ab >= 100\n",
    "                            GROUP BY playerID\n",
    "                            ORDER BY \"Batting Average\" DESC, playerID\n",
    "                            LIMIT 5\n",
    "                            \"\"\",\n",
    "                            con)\n",
    "\n",
    "sql_dataframe_2"
   ]
  },
  {
   "cell_type": "markdown",
   "metadata": {},
   "source": [
    "### SQL to Altair\n",
    "\n",
    "'SUM' - is a sum function for sql\n",
    "\n",
    "'AS' - Renaming the column\n",
    "\n",
    "'WHERE' - Specifying data you want to use\n",
    "\n",
    "'OR' - standard or function\n",
    "\n",
    "'GROUP BY' - filtering by a column"
   ]
  },
  {
   "cell_type": "code",

   "execution_count": 13,
   "metadata": {},
   "outputs": [
    {
     "data": {
      "text/html": [
       "<div>\n",
       "<style scoped>\n",
       "    .dataframe tbody tr th:only-of-type {\n",
       "        vertical-align: middle;\n",
       "    }\n",
       "\n",
       "    .dataframe tbody tr th {\n",
       "        vertical-align: top;\n",
       "    }\n",
       "\n",
       "    .dataframe thead th {\n",
       "        text-align: right;\n",
       "    }\n",
       "</style>\n",
       "<table border=\"1\" class=\"dataframe\">\n",
       "  <thead>\n",
       "    <tr style=\"text-align: right;\">\n",
       "      <th></th>\n",
       "      <th>teamID</th>\n",
       "      <th>Total Games Won</th>\n",
       "    </tr>\n",
       "  </thead>\n",
       "  <tbody>\n",
       "    <tr>\n",
       "      <th>0</th>\n",
       "      <td>ALT</td>\n",
       "      <td>6</td>\n",
       "    </tr>\n",
       "    <tr>\n",
       "      <th>1</th>\n",
       "      <td>BFN</td>\n",
       "      <td>314</td>\n",
       "    </tr>\n",
       "  </tbody>\n",
       "</table>\n",
       "</div>"
      ],
      "text/plain": [
       "  teamID  Total Games Won\n",
       "0    ALT                6\n",
       "1    BFN              314"
      ]
     },
     "execution_count": 13,

     "metadata": {},
     "output_type": "execute_result"
    }
   ],
   "source": [
    "sql_dataframe_1 = pd.read_sql_query(\"\"\"SELECT teamID, SUM(W) AS \"Total Games Won\"\n",
    "                            FROM Teams\n",
    "                            WHERE teamID = \"ALT\" OR teamID = \"BFN\"\n",
    "                            GROUP BY teamID\n",
    "                            LIMIT 10\n",
    "                            \"\"\",\n",
    "                            con)\n",
    "\n",
    "sql_dataframe_1"
   ]
  },
  {
   "cell_type": "markdown",
   "metadata": {},
   "source": [
    "#### Chart Creation\n",
    "\n",
    "Use altair to creat a chart that was created by SQl"
   ]
  },
  {
   "cell_type": "code",

   "execution_count": 14,
   "metadata": {},
   "outputs": [
    {
     "data": {
      "text/html": [
       "\n",
       "<div id=\"altair-viz-b974d2b232824771bb3392d9e24f9d41\"></div>\n",
       "<script type=\"text/javascript\">\n",
       "  var VEGA_DEBUG = (typeof VEGA_DEBUG == \"undefined\") ? {} : VEGA_DEBUG;\n",
       "  (function(spec, embedOpt){\n",
       "    let outputDiv = document.currentScript.previousElementSibling;\n",
       "    if (outputDiv.id !== \"altair-viz-b974d2b232824771bb3392d9e24f9d41\") {\n",
       "      outputDiv = document.getElementById(\"altair-viz-b974d2b232824771bb3392d9e24f9d41\");\n",
       "    }\n",
       "    const paths = {\n",
       "      \"vega\": \"https://cdn.jsdelivr.net/npm//vega@5?noext\",\n",
       "      \"vega-lib\": \"https://cdn.jsdelivr.net/npm//vega-lib?noext\",\n",
       "      \"vega-lite\": \"https://cdn.jsdelivr.net/npm//vega-lite@4.17.0?noext\",\n",
       "      \"vega-embed\": \"https://cdn.jsdelivr.net/npm//vega-embed@6?noext\",\n",
       "    };\n",
       "\n",
       "    function maybeLoadScript(lib, version) {\n",
       "      var key = `${lib.replace(\"-\", \"\")}_version`;\n",
       "      return (VEGA_DEBUG[key] == version) ?\n",
       "        Promise.resolve(paths[lib]) :\n",
       "        new Promise(function(resolve, reject) {\n",
       "          var s = document.createElement('script');\n",
       "          document.getElementsByTagName(\"head\")[0].appendChild(s);\n",
       "          s.async = true;\n",
       "          s.onload = () => {\n",
       "            VEGA_DEBUG[key] = version;\n",
       "            return resolve(paths[lib]);\n",
       "          };\n",
       "          s.onerror = () => reject(`Error loading script: ${paths[lib]}`);\n",
       "          s.src = paths[lib];\n",
       "        });\n",
       "    }\n",
       "\n",
       "    function showError(err) {\n",
       "      outputDiv.innerHTML = `<div class=\"error\" style=\"color:red;\">${err}</div>`;\n",
       "      throw err;\n",
       "    }\n",
       "\n",
       "    function displayChart(vegaEmbed) {\n",
       "      vegaEmbed(outputDiv, spec, embedOpt)\n",
       "        .catch(err => showError(`Javascript Error: ${err.message}<br>This usually means there's a typo in your chart specification. See the javascript console for the full traceback.`));\n",
       "    }\n",
       "\n",
       "    if(typeof define === \"function\" && define.amd) {\n",
       "      requirejs.config({paths});\n",
       "      require([\"vega-embed\"], displayChart, err => showError(`Error loading script: ${err.message}`));\n",
       "    } else {\n",
       "      maybeLoadScript(\"vega\", \"5\")\n",
       "        .then(() => maybeLoadScript(\"vega-lite\", \"4.17.0\"))\n",
       "        .then(() => maybeLoadScript(\"vega-embed\", \"6\"))\n",
       "        .catch(showError)\n",
       "        .then(() => displayChart(vegaEmbed));\n",
       "    }\n",
       "  })({\"config\": {\"view\": {\"continuousWidth\": 400, \"continuousHeight\": 300}}, \"data\": {\"name\": \"data-75e1f0529279a03dbdbdb21435e8e12d\"}, \"mark\": \"bar\", \"encoding\": {\"color\": {\"field\": \"teamID\", \"type\": \"nominal\"}, \"x\": {\"field\": \"teamID\", \"type\": \"nominal\"}, \"y\": {\"field\": \"Total Games Won\", \"type\": \"quantitative\"}}, \"$schema\": \"https://vega.github.io/schema/vega-lite/v4.17.0.json\", \"datasets\": {\"data-75e1f0529279a03dbdbdb21435e8e12d\": [{\"teamID\": \"ALT\", \"Total Games Won\": 6}, {\"teamID\": \"BFN\", \"Total Games Won\": 314}]}}, {\"mode\": \"vega-lite\"});\n",
       "</script>"
      ],
      "text/plain": [
       "alt.Chart(...)"
      ]
     },
     "execution_count": 14,
     "metadata": {},
     "output_type": "execute_result"
=======
   "execution_count": 82,
   "metadata": {},
   "outputs": [
    {
     "ename": "ValueError",
     "evalue": "No enabled saver found that supports format='png'",
     "output_type": "error",
     "traceback": [
      "\u001b[1;31m---------------------------------------------------------------------------\u001b[0m",
      "\u001b[1;31mValueError\u001b[0m                                Traceback (most recent call last)",
      "\u001b[1;32mc:\\Users\\kjell\\Documents\\CSE 250 Study guild\\cse-250-study-guild\\Study guild.ipynb Cell 23'\u001b[0m in \u001b[0;36m<module>\u001b[1;34m\u001b[0m\n\u001b[0;32m      <a href='vscode-notebook-cell:/c%3A/Users/kjell/Documents/CSE%20250%20Study%20guild/cse-250-study-guild/Study%20guild.ipynb#ch0000016?line=0'>1</a>\u001b[0m sql_chart_0 \u001b[39m=\u001b[39m (alt\u001b[39m.\u001b[39mChart(sql_dataframe_1)\n\u001b[0;32m      <a href='vscode-notebook-cell:/c%3A/Users/kjell/Documents/CSE%20250%20Study%20guild/cse-250-study-guild/Study%20guild.ipynb#ch0000016?line=1'>2</a>\u001b[0m     \u001b[39m.\u001b[39mencode(\n\u001b[0;32m      <a href='vscode-notebook-cell:/c%3A/Users/kjell/Documents/CSE%20250%20Study%20guild/cse-250-study-guild/Study%20guild.ipynb#ch0000016?line=2'>3</a>\u001b[0m         x\u001b[39m=\u001b[39m alt\u001b[39m.\u001b[39mX(\u001b[39m'\u001b[39m\u001b[39mteamID\u001b[39m\u001b[39m'\u001b[39m),\n\u001b[0;32m      <a href='vscode-notebook-cell:/c%3A/Users/kjell/Documents/CSE%20250%20Study%20guild/cse-250-study-guild/Study%20guild.ipynb#ch0000016?line=3'>4</a>\u001b[0m         y\u001b[39m=\u001b[39m alt\u001b[39m.\u001b[39mY(\u001b[39m'\u001b[39m\u001b[39mTotal Games Won\u001b[39m\u001b[39m'\u001b[39m),\n\u001b[0;32m      <a href='vscode-notebook-cell:/c%3A/Users/kjell/Documents/CSE%20250%20Study%20guild/cse-250-study-guild/Study%20guild.ipynb#ch0000016?line=4'>5</a>\u001b[0m         color\u001b[39m=\u001b[39m \u001b[39m'\u001b[39m\u001b[39mteamID\u001b[39m\u001b[39m'\u001b[39m\n\u001b[0;32m      <a href='vscode-notebook-cell:/c%3A/Users/kjell/Documents/CSE%20250%20Study%20guild/cse-250-study-guild/Study%20guild.ipynb#ch0000016?line=5'>6</a>\u001b[0m     )\u001b[39m.\u001b[39mmark_bar())\n\u001b[0;32m      <a href='vscode-notebook-cell:/c%3A/Users/kjell/Documents/CSE%20250%20Study%20guild/cse-250-study-guild/Study%20guild.ipynb#ch0000016?line=7'>8</a>\u001b[0m \u001b[39m# Saving the chart as a png\u001b[39;00m\n\u001b[1;32m----> <a href='vscode-notebook-cell:/c%3A/Users/kjell/Documents/CSE%20250%20Study%20guild/cse-250-study-guild/Study%20guild.ipynb#ch0000016?line=8'>9</a>\u001b[0m sql_chart_0\u001b[39m.\u001b[39;49msave(\u001b[39m\"\u001b[39;49m\u001b[39mscreenshots/sql_chart_0.png\u001b[39;49m\u001b[39m\"\u001b[39;49m)\n\u001b[0;32m     <a href='vscode-notebook-cell:/c%3A/Users/kjell/Documents/CSE%20250%20Study%20guild/cse-250-study-guild/Study%20guild.ipynb#ch0000016?line=10'>11</a>\u001b[0m sql_chart_0\n",
      "File \u001b[1;32m~\\AppData\\Local\\Programs\\Python\\Python310\\lib\\site-packages\\altair\\vegalite\\v4\\api.py:488\u001b[0m, in \u001b[0;36mTopLevelMixin.save\u001b[1;34m(self, fp, format, override_data_transformer, scale_factor, vegalite_version, vega_version, vegaembed_version, **kwargs)\u001b[0m\n\u001b[0;32m    <a href='file:///c%3A/Users/kjell/AppData/Local/Programs/Python/Python310/lib/site-packages/altair/vegalite/v4/api.py?line=485'>486</a>\u001b[0m \u001b[39mif\u001b[39;00m override_data_transformer:\n\u001b[0;32m    <a href='file:///c%3A/Users/kjell/AppData/Local/Programs/Python/Python310/lib/site-packages/altair/vegalite/v4/api.py?line=486'>487</a>\u001b[0m     \u001b[39mwith\u001b[39;00m data_transformers\u001b[39m.\u001b[39mdisable_max_rows():\n\u001b[1;32m--> <a href='file:///c%3A/Users/kjell/AppData/Local/Programs/Python/Python310/lib/site-packages/altair/vegalite/v4/api.py?line=487'>488</a>\u001b[0m         result \u001b[39m=\u001b[39m save(\u001b[39m*\u001b[39m\u001b[39m*\u001b[39mkwds)\n\u001b[0;32m    <a href='file:///c%3A/Users/kjell/AppData/Local/Programs/Python/Python310/lib/site-packages/altair/vegalite/v4/api.py?line=488'>489</a>\u001b[0m \u001b[39melse\u001b[39;00m:\n\u001b[0;32m    <a href='file:///c%3A/Users/kjell/AppData/Local/Programs/Python/Python310/lib/site-packages/altair/vegalite/v4/api.py?line=489'>490</a>\u001b[0m     result \u001b[39m=\u001b[39m save(\u001b[39m*\u001b[39m\u001b[39m*\u001b[39mkwds)\n",
      "File \u001b[1;32m~\\AppData\\Local\\Programs\\Python\\Python310\\lib\\site-packages\\altair\\utils\\save.py:116\u001b[0m, in \u001b[0;36msave\u001b[1;34m(chart, fp, vega_version, vegaembed_version, format, mode, vegalite_version, embed_options, json_kwds, webdriver, scale_factor, **kwargs)\u001b[0m\n\u001b[0;32m    <a href='file:///c%3A/Users/kjell/AppData/Local/Programs/Python/Python310/lib/site-packages/altair/utils/save.py?line=113'>114</a>\u001b[0m     write_file_or_filename(fp, mimebundle[\u001b[39m\"\u001b[39m\u001b[39mtext/html\u001b[39m\u001b[39m\"\u001b[39m], mode\u001b[39m=\u001b[39m\u001b[39m\"\u001b[39m\u001b[39mw\u001b[39m\u001b[39m\"\u001b[39m)\n\u001b[0;32m    <a href='file:///c%3A/Users/kjell/AppData/Local/Programs/Python/Python310/lib/site-packages/altair/utils/save.py?line=114'>115</a>\u001b[0m \u001b[39melif\u001b[39;00m \u001b[39mformat\u001b[39m \u001b[39min\u001b[39;00m [\u001b[39m\"\u001b[39m\u001b[39mpng\u001b[39m\u001b[39m\"\u001b[39m, \u001b[39m\"\u001b[39m\u001b[39msvg\u001b[39m\u001b[39m\"\u001b[39m, \u001b[39m\"\u001b[39m\u001b[39mpdf\u001b[39m\u001b[39m\"\u001b[39m]:\n\u001b[1;32m--> <a href='file:///c%3A/Users/kjell/AppData/Local/Programs/Python/Python310/lib/site-packages/altair/utils/save.py?line=115'>116</a>\u001b[0m     mimebundle \u001b[39m=\u001b[39m spec_to_mimebundle(\n\u001b[0;32m    <a href='file:///c%3A/Users/kjell/AppData/Local/Programs/Python/Python310/lib/site-packages/altair/utils/save.py?line=116'>117</a>\u001b[0m         spec\u001b[39m=\u001b[39mspec,\n\u001b[0;32m    <a href='file:///c%3A/Users/kjell/AppData/Local/Programs/Python/Python310/lib/site-packages/altair/utils/save.py?line=117'>118</a>\u001b[0m         \u001b[39mformat\u001b[39m\u001b[39m=\u001b[39m\u001b[39mformat\u001b[39m,\n\u001b[0;32m    <a href='file:///c%3A/Users/kjell/AppData/Local/Programs/Python/Python310/lib/site-packages/altair/utils/save.py?line=118'>119</a>\u001b[0m         mode\u001b[39m=\u001b[39mmode,\n\u001b[0;32m    <a href='file:///c%3A/Users/kjell/AppData/Local/Programs/Python/Python310/lib/site-packages/altair/utils/save.py?line=119'>120</a>\u001b[0m         vega_version\u001b[39m=\u001b[39mvega_version,\n\u001b[0;32m    <a href='file:///c%3A/Users/kjell/AppData/Local/Programs/Python/Python310/lib/site-packages/altair/utils/save.py?line=120'>121</a>\u001b[0m         vegalite_version\u001b[39m=\u001b[39mvegalite_version,\n\u001b[0;32m    <a href='file:///c%3A/Users/kjell/AppData/Local/Programs/Python/Python310/lib/site-packages/altair/utils/save.py?line=121'>122</a>\u001b[0m         vegaembed_version\u001b[39m=\u001b[39mvegaembed_version,\n\u001b[0;32m    <a href='file:///c%3A/Users/kjell/AppData/Local/Programs/Python/Python310/lib/site-packages/altair/utils/save.py?line=122'>123</a>\u001b[0m         webdriver\u001b[39m=\u001b[39mwebdriver,\n\u001b[0;32m    <a href='file:///c%3A/Users/kjell/AppData/Local/Programs/Python/Python310/lib/site-packages/altair/utils/save.py?line=123'>124</a>\u001b[0m         scale_factor\u001b[39m=\u001b[39mscale_factor,\n\u001b[0;32m    <a href='file:///c%3A/Users/kjell/AppData/Local/Programs/Python/Python310/lib/site-packages/altair/utils/save.py?line=124'>125</a>\u001b[0m         \u001b[39m*\u001b[39m\u001b[39m*\u001b[39mkwargs,\n\u001b[0;32m    <a href='file:///c%3A/Users/kjell/AppData/Local/Programs/Python/Python310/lib/site-packages/altair/utils/save.py?line=125'>126</a>\u001b[0m     )\n\u001b[0;32m    <a href='file:///c%3A/Users/kjell/AppData/Local/Programs/Python/Python310/lib/site-packages/altair/utils/save.py?line=126'>127</a>\u001b[0m     \u001b[39mif\u001b[39;00m \u001b[39mformat\u001b[39m \u001b[39m==\u001b[39m \u001b[39m\"\u001b[39m\u001b[39mpng\u001b[39m\u001b[39m\"\u001b[39m:\n\u001b[0;32m    <a href='file:///c%3A/Users/kjell/AppData/Local/Programs/Python/Python310/lib/site-packages/altair/utils/save.py?line=127'>128</a>\u001b[0m         write_file_or_filename(fp, mimebundle[\u001b[39m\"\u001b[39m\u001b[39mimage/png\u001b[39m\u001b[39m\"\u001b[39m], mode\u001b[39m=\u001b[39m\u001b[39m\"\u001b[39m\u001b[39mwb\u001b[39m\u001b[39m\"\u001b[39m)\n",
      "File \u001b[1;32m~\\AppData\\Local\\Programs\\Python\\Python310\\lib\\site-packages\\altair\\utils\\mimebundle.py:60\u001b[0m, in \u001b[0;36mspec_to_mimebundle\u001b[1;34m(spec, format, mode, vega_version, vegaembed_version, vegalite_version, **kwargs)\u001b[0m\n\u001b[0;32m     <a href='file:///c%3A/Users/kjell/AppData/Local/Programs/Python/Python310/lib/site-packages/altair/utils/mimebundle.py?line=54'>55</a>\u001b[0m     \u001b[39mexcept\u001b[39;00m \u001b[39mImportError\u001b[39;00m:\n\u001b[0;32m     <a href='file:///c%3A/Users/kjell/AppData/Local/Programs/Python/Python310/lib/site-packages/altair/utils/mimebundle.py?line=55'>56</a>\u001b[0m         \u001b[39mraise\u001b[39;00m \u001b[39mValueError\u001b[39;00m(\n\u001b[0;32m     <a href='file:///c%3A/Users/kjell/AppData/Local/Programs/Python/Python310/lib/site-packages/altair/utils/mimebundle.py?line=56'>57</a>\u001b[0m             \u001b[39m\"\u001b[39m\u001b[39mSaving charts in \u001b[39m\u001b[39m{fmt!r}\u001b[39;00m\u001b[39m format requires the altair_saver package: \u001b[39m\u001b[39m\"\u001b[39m\n\u001b[0;32m     <a href='file:///c%3A/Users/kjell/AppData/Local/Programs/Python/Python310/lib/site-packages/altair/utils/mimebundle.py?line=57'>58</a>\u001b[0m             \u001b[39m\"\u001b[39m\u001b[39msee http://github.com/altair-viz/altair_saver/\u001b[39m\u001b[39m\"\u001b[39m\u001b[39m.\u001b[39mformat(fmt\u001b[39m=\u001b[39m\u001b[39mformat\u001b[39m)\n\u001b[0;32m     <a href='file:///c%3A/Users/kjell/AppData/Local/Programs/Python/Python310/lib/site-packages/altair/utils/mimebundle.py?line=58'>59</a>\u001b[0m         )\n\u001b[1;32m---> <a href='file:///c%3A/Users/kjell/AppData/Local/Programs/Python/Python310/lib/site-packages/altair/utils/mimebundle.py?line=59'>60</a>\u001b[0m     \u001b[39mreturn\u001b[39;00m altair_saver\u001b[39m.\u001b[39mrender(spec, \u001b[39mformat\u001b[39m, mode\u001b[39m=\u001b[39mmode, \u001b[39m*\u001b[39m\u001b[39m*\u001b[39mkwargs)\n\u001b[0;32m     <a href='file:///c%3A/Users/kjell/AppData/Local/Programs/Python/Python310/lib/site-packages/altair/utils/mimebundle.py?line=60'>61</a>\u001b[0m \u001b[39mif\u001b[39;00m \u001b[39mformat\u001b[39m \u001b[39m==\u001b[39m \u001b[39m\"\u001b[39m\u001b[39mhtml\u001b[39m\u001b[39m\"\u001b[39m:\n\u001b[0;32m     <a href='file:///c%3A/Users/kjell/AppData/Local/Programs/Python/Python310/lib/site-packages/altair/utils/mimebundle.py?line=61'>62</a>\u001b[0m     html \u001b[39m=\u001b[39m spec_to_html(\n\u001b[0;32m     <a href='file:///c%3A/Users/kjell/AppData/Local/Programs/Python/Python310/lib/site-packages/altair/utils/mimebundle.py?line=62'>63</a>\u001b[0m         spec,\n\u001b[0;32m     <a href='file:///c%3A/Users/kjell/AppData/Local/Programs/Python/Python310/lib/site-packages/altair/utils/mimebundle.py?line=63'>64</a>\u001b[0m         mode\u001b[39m=\u001b[39mmode,\n\u001b[1;32m   (...)\u001b[0m\n\u001b[0;32m     <a href='file:///c%3A/Users/kjell/AppData/Local/Programs/Python/Python310/lib/site-packages/altair/utils/mimebundle.py?line=67'>68</a>\u001b[0m         \u001b[39m*\u001b[39m\u001b[39m*\u001b[39mkwargs,\n\u001b[0;32m     <a href='file:///c%3A/Users/kjell/AppData/Local/Programs/Python/Python310/lib/site-packages/altair/utils/mimebundle.py?line=68'>69</a>\u001b[0m     )\n",
      "File \u001b[1;32m~\\AppData\\Local\\Programs\\Python\\Python310\\lib\\site-packages\\altair_saver\\_core.py:255\u001b[0m, in \u001b[0;36mrender\u001b[1;34m(chart, fmts, mode, embed_options, method, **kwargs)\u001b[0m\n\u001b[0;32m    <a href='file:///c%3A/Users/kjell/AppData/Local/Programs/Python/Python310/lib/site-packages/altair_saver/_core.py?line=251'>252</a>\u001b[0m     embed_options \u001b[39m=\u001b[39m alt\u001b[39m.\u001b[39mrenderers\u001b[39m.\u001b[39moptions\u001b[39m.\u001b[39mget(\u001b[39m\"\u001b[39m\u001b[39membed_options\u001b[39m\u001b[39m\"\u001b[39m, \u001b[39mNone\u001b[39;00m)\n\u001b[0;32m    <a href='file:///c%3A/Users/kjell/AppData/Local/Programs/Python/Python310/lib/site-packages/altair_saver/_core.py?line=253'>254</a>\u001b[0m \u001b[39mfor\u001b[39;00m fmt \u001b[39min\u001b[39;00m fmts:\n\u001b[1;32m--> <a href='file:///c%3A/Users/kjell/AppData/Local/Programs/Python/Python310/lib/site-packages/altair_saver/_core.py?line=254'>255</a>\u001b[0m     Saver \u001b[39m=\u001b[39m _select_saver(method, mode\u001b[39m=\u001b[39;49mmode, fmt\u001b[39m=\u001b[39;49mfmt)\n\u001b[0;32m    <a href='file:///c%3A/Users/kjell/AppData/Local/Programs/Python/Python310/lib/site-packages/altair_saver/_core.py?line=255'>256</a>\u001b[0m     saver \u001b[39m=\u001b[39m Saver(spec, mode\u001b[39m=\u001b[39mmode, embed_options\u001b[39m=\u001b[39membed_options, \u001b[39m*\u001b[39m\u001b[39m*\u001b[39mkwargs)\n\u001b[0;32m    <a href='file:///c%3A/Users/kjell/AppData/Local/Programs/Python/Python310/lib/site-packages/altair_saver/_core.py?line=256'>257</a>\u001b[0m     mimebundle\u001b[39m.\u001b[39mupdate(saver\u001b[39m.\u001b[39mmimebundle(fmt))\n",
      "File \u001b[1;32m~\\AppData\\Local\\Programs\\Python\\Python310\\lib\\site-packages\\altair_saver\\_core.py:69\u001b[0m, in \u001b[0;36m_select_saver\u001b[1;34m(method, mode, fmt, fp)\u001b[0m\n\u001b[0;32m     <a href='file:///c%3A/Users/kjell/AppData/Local/Programs/Python/Python310/lib/site-packages/altair_saver/_core.py?line=66'>67</a>\u001b[0m         \u001b[39mif\u001b[39;00m s\u001b[39m.\u001b[39menabled() \u001b[39mand\u001b[39;00m fmt \u001b[39min\u001b[39;00m s\u001b[39m.\u001b[39mvalid_formats[mode]:\n\u001b[0;32m     <a href='file:///c%3A/Users/kjell/AppData/Local/Programs/Python/Python310/lib/site-packages/altair_saver/_core.py?line=67'>68</a>\u001b[0m             \u001b[39mreturn\u001b[39;00m s\n\u001b[1;32m---> <a href='file:///c%3A/Users/kjell/AppData/Local/Programs/Python/Python310/lib/site-packages/altair_saver/_core.py?line=68'>69</a>\u001b[0m     \u001b[39mraise\u001b[39;00m \u001b[39mValueError\u001b[39;00m(\u001b[39mf\u001b[39m\u001b[39m\"\u001b[39m\u001b[39mNo enabled saver found that supports format=\u001b[39m\u001b[39m{\u001b[39;00mfmt\u001b[39m!r}\u001b[39;00m\u001b[39m\"\u001b[39m)\n\u001b[0;32m     <a href='file:///c%3A/Users/kjell/AppData/Local/Programs/Python/Python310/lib/site-packages/altair_saver/_core.py?line=69'>70</a>\u001b[0m \u001b[39melse\u001b[39;00m:\n\u001b[0;32m     <a href='file:///c%3A/Users/kjell/AppData/Local/Programs/Python/Python310/lib/site-packages/altair_saver/_core.py?line=70'>71</a>\u001b[0m     \u001b[39mraise\u001b[39;00m \u001b[39mValueError\u001b[39;00m(\u001b[39mf\u001b[39m\u001b[39m\"\u001b[39m\u001b[39mUnrecognized method: \u001b[39m\u001b[39m{\u001b[39;00mmethod\u001b[39m}\u001b[39;00m\u001b[39m\"\u001b[39m)\n",
      "\u001b[1;31mValueError\u001b[0m: No enabled saver found that supports format='png'"
     ]

    }
   ],
   "source": [
    "sql_chart_0 = (alt.Chart(sql_dataframe_1)\n",
    "    .encode(\n",
    "        x= alt.X('teamID'),\n",
    "        y= alt.Y('Total Games Won'),\n",
    "        color= 'teamID'\n",
    "    ).mark_bar())\n",
    "\n",
    "# Saving the chart as a png\n",
    "sql_chart_0.save(\"screenshots/sql_chart_0.png\")\n",
    "\n",
    "sql_chart_0"
   ]
  },
  {
   "cell_type": "markdown",
   "metadata": {},
   "source": [
    "# Maching Learning"
   ]
  },
  {
   "cell_type": "markdown",
   "metadata": {},
   "source": [
    "#### Classification Model"
   ]
  },
  {
   "cell_type": "code",
   "execution_count": 15,
   "metadata": {},
   "outputs": [
    {
     "data": {
      "text/plain": [
       "Index(['parcel', 'abstrprd', 'livearea', 'finbsmnt', 'basement', 'yrbuilt',\n",
       "       'totunits', 'stories', 'nocars', 'numbdrm', 'numbaths', 'sprice',\n",
       "       'deduct', 'netprice', 'tasp', 'smonth', 'syear', 'condition_AVG',\n",
       "       'condition_Excel', 'condition_Fair', 'condition_Good',\n",
       "       'condition_VGood', 'quality_A', 'quality_B', 'quality_C', 'quality_D',\n",
       "       'quality_X', 'gartype_Att', 'gartype_Att/Det', 'gartype_CP',\n",
       "       'gartype_Det', 'gartype_None', 'gartype_att/CP', 'gartype_det/CP',\n",
       "       'arcstyle_BI-LEVEL', 'arcstyle_CONVERSIONS', 'arcstyle_END UNIT',\n",
       "       'arcstyle_MIDDLE UNIT', 'arcstyle_ONE AND HALF-STORY',\n",
       "       'arcstyle_ONE-STORY', 'arcstyle_SPLIT LEVEL', 'arcstyle_THREE-STORY',\n",
       "       'arcstyle_TRI-LEVEL', 'arcstyle_TRI-LEVEL WITH BASEMENT',\n",
       "       'arcstyle_TWO AND HALF-STORY', 'arcstyle_TWO-STORY', 'qualified_Q',\n",
       "       'qualified_U', 'status_I', 'status_V', 'before1980'],\n",
       "      dtype='object')"
      ]
     },
     "execution_count": 15,
     "metadata": {},
     "output_type": "execute_result"
    }
   ],
   "source": [
    "# .columns will show the dataframes columns\n",
    "dw_ml.columns"
   ]
  },
  {
   "cell_type": "code",
   "execution_count": 16,
   "metadata": {},
   "outputs": [],
   "source": [
    "# Create our filters for the model\n",
    "\n",
    "x = dw_ml.filter(['gartype_Att', 'gartype_Att/Det', 'gartype_CP',\n",
    "        'gartype_Det', 'gartype_None', 'gartype_att/CP', 'gartype_det/CP',\n",
    "        'stories', 'arcstyle_SPLIT LEVEL', 'numbdrm', 'numbaths', 'totunits',\n",
    "        'stories', 'nocars', 'abstrprd', 'livearea', 'finbsmnt', 'basement',\n",
    "        'condition_Excel', 'condition_Fair', 'condition_Good',\n",
    "       'condition_VGood'])"
   ]
  },
  {
   "cell_type": "code",
   "execution_count": 17,
   "metadata": {},
   "outputs": [],
   "source": [
    "# Create target value\n",
    "y = dw_ml['before1980']"
   ]
  },
  {
   "cell_type": "markdown",
   "metadata": {},
   "source": [
    "##### Model\n",
    "\n",
    "test_size - amount we want to test\n",
    "\n",
    "random_state - a random number, acts like a seed"
   ]
  },
  {
   "cell_type": "code",
   "execution_count": 18,
   "metadata": {},
   "outputs": [],
   "source": [
    "\n",
    "x_train, x_test, y_train, y_test = train_test_split(x, y, test_size = .3, random_state = 29430)"
   ]
  },
  {
   "cell_type": "code",
   "execution_count": 19,
   "metadata": {},
   "outputs": [
    {
     "data": {
      "text/plain": [
       "0.9042769857433809"
      ]
     },
     "execution_count": 19,
     "metadata": {},
     "output_type": "execute_result"
    }
   ],
   "source": [
    "# create the model\n",
    "classifier = DecisionTreeClassifier()\n",
    "\n",
    "# train the model\n",
    "classifier.fit(x_train, y_train)\n",
    "\n",
    "# make predictions\n",
    "y_predictions = classifier.predict(x_test)\n",
    "\n",
    "# test how accurate predictions are\n",
    "metrics.accuracy_score(y_test, y_predictions)"
   ]
  },
  {
   "cell_type": "markdown",
   "metadata": {},
   "source": [
    "#### Justify Model"
   ]
  },
  {
   "cell_type": "code",
   "execution_count": 20,
   "metadata": {},
   "outputs": [
    {
     "data": {
      "text/html": [
       "<div>\n",
       "<style scoped>\n",
       "    .dataframe tbody tr th:only-of-type {\n",
       "        vertical-align: middle;\n",
       "    }\n",
       "\n",
       "    .dataframe tbody tr th {\n",
       "        vertical-align: top;\n",
       "    }\n",
       "\n",
       "    .dataframe thead th {\n",
       "        text-align: right;\n",
       "    }\n",
       "</style>\n",
       "<table border=\"1\" class=\"dataframe\">\n",
       "  <thead>\n",
       "    <tr style=\"text-align: right;\">\n",
       "      <th></th>\n",
       "      <th>feature</th>\n",
       "      <th>importance</th>\n",
       "    </tr>\n",
       "  </thead>\n",
       "  <tbody>\n",
       "    <tr>\n",
       "      <th>15</th>\n",
       "      <td>livearea</td>\n",
       "      <td>0.257268</td>\n",
       "    </tr>\n",
       "    <tr>\n",
       "      <th>12</th>\n",
       "      <td>stories</td>\n",
       "      <td>0.231602</td>\n",
       "    </tr>\n",
       "    <tr>\n",
       "      <th>0</th>\n",
       "      <td>gartype_Att</td>\n",
       "      <td>0.123914</td>\n",
       "    </tr>\n",
       "    <tr>\n",
       "      <th>14</th>\n",
       "      <td>abstrprd</td>\n",
       "      <td>0.098400</td>\n",
       "    </tr>\n",
       "    <tr>\n",
       "      <th>17</th>\n",
       "      <td>basement</td>\n",
       "      <td>0.075225</td>\n",
       "    </tr>\n",
       "    <tr>\n",
       "      <th>10</th>\n",
       "      <td>numbaths</td>\n",
       "      <td>0.050522</td>\n",
       "    </tr>\n",
       "    <tr>\n",
       "      <th>16</th>\n",
       "      <td>finbsmnt</td>\n",
       "      <td>0.049071</td>\n",
       "    </tr>\n",
       "    <tr>\n",
       "      <th>20</th>\n",
       "      <td>condition_Good</td>\n",
       "      <td>0.038798</td>\n",
       "    </tr>\n",
       "    <tr>\n",
       "      <th>9</th>\n",
       "      <td>numbdrm</td>\n",
       "      <td>0.034903</td>\n",
       "    </tr>\n",
       "    <tr>\n",
       "      <th>13</th>\n",
       "      <td>nocars</td>\n",
       "      <td>0.025729</td>\n",
       "    </tr>\n",
       "  </tbody>\n",
       "</table>\n",
       "</div>"
      ],
      "text/plain": [
       "           feature  importance\n",
       "15        livearea    0.257268\n",
       "12         stories    0.231602\n",
       "0      gartype_Att    0.123914\n",
       "14        abstrprd    0.098400\n",
       "17        basement    0.075225\n",
       "10        numbaths    0.050522\n",
       "16        finbsmnt    0.049071\n",
       "20  condition_Good    0.038798\n",
       "9          numbdrm    0.034903\n",
       "13          nocars    0.025729"
      ]
     },
     "execution_count": 20,
     "metadata": {},
     "output_type": "execute_result"
    }
   ],
   "source": [
    "# showing how much each feature is contrubuting to model\n",
    "feature_df = pd.DataFrame({'feature':x.columns, 'importance':classifier.feature_importances_})\n",
    "\n",
    "feature_df.sort_values(by='importance', ascending=False).head(10)"
   ]
  },
  {
   "cell_type": "markdown",
   "metadata": {},
   "source": [
    "#### Quality of Model\n"
   ]
  },
  {
   "cell_type": "code",
   "execution_count": 21,
   "metadata": {},
   "outputs": [
    {
     "name": "stderr",
     "output_type": "stream",
     "text": [
      "C:\\Users\\Srwig\\AppData\\Local\\Programs\\Python\\Python39\\lib\\site-packages\\sklearn\\utils\\deprecation.py:87: FutureWarning: Function plot_confusion_matrix is deprecated; Function `plot_confusion_matrix` is deprecated in 1.0 and will be removed in 1.2. Use one of the class methods: ConfusionMatrixDisplay.from_predictions or ConfusionMatrixDisplay.from_estimator.\n",
      "  warnings.warn(msg, category=FutureWarning)\n"
     ]
    },
    {
     "data": {
      "text/plain": [
       "<sklearn.metrics._plot.confusion_matrix.ConfusionMatrixDisplay at 0x278aefe3760>"
      ]
     },
     "execution_count": 21,
     "metadata": {},
     "output_type": "execute_result"
    },
    {
     "data": {
      "image/png": "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",
      "text/plain": [
       "<Figure size 432x288 with 2 Axes>"
      ]
     },
     "metadata": {
      "needs_background": "light"
     },
     "output_type": "display_data"
    }
   ],
   "source": [
    "metrics.plot_confusion_matrix(classifier, x_test, y_test)"
   ]
  },
  {
   "cell_type": "markdown",
   "metadata": {},
   "source": [
    "##### Report"
   ]
  },
  {
   "cell_type": "code",
   "execution_count": 22,
   "metadata": {},
   "outputs": [
    {
     "name": "stdout",
     "output_type": "stream",
     "text": [
      "              precision    recall  f1-score   support\n",
      "\n",
      "           0       0.87      0.88      0.87      2605\n",
      "           1       0.93      0.92      0.92      4269\n",
      "\n",
      "    accuracy                           0.90      6874\n",
      "   macro avg       0.90      0.90      0.90      6874\n",
      "weighted avg       0.90      0.90      0.90      6874\n",
      "\n"
     ]
    }
   ],
   "source": [
    "print(metrics.classification_report(y_test, y_predictions))"
   ]
  },
  {
   "cell_type": "markdown",
   "metadata": {},
   "source": [
    "##### Accuracy"
   ]
  },
  {
   "cell_type": "code",
   "execution_count": 23,
   "metadata": {},
   "outputs": [
    {
     "data": {
      "text/plain": [
       "0.9032586558044806"
      ]
     },
     "execution_count": 23,
     "metadata": {},
     "output_type": "execute_result"
    }
   ],
   "source": [
    "# type of metric \n",
    "# how many I got right by the total numbers of tries\n",
    "\n",
    "(2297 + 3912) / (2297 + 3912 + 357 + 308)"
   ]
  },
  {
   "cell_type": "code",
   "execution_count": 24,
   "metadata": {},
   "outputs": [
    {
     "data": {
      "text/plain": [
       "(6874, 22)"
      ]
     },
     "execution_count": 24,
     "metadata": {},
     "output_type": "execute_result"
    }
   ],
   "source": [
    "x_test.shape"
   ]
  },
  {
   "cell_type": "code",
   "execution_count": 25,
   "metadata": {},
   "outputs": [
    {
     "data": {
      "text/plain": [
       "6874"
      ]
     },
     "execution_count": 25,
     "metadata": {},
     "output_type": "execute_result"
    }
   ],
   "source": [
    "(2297 + 3912 + 357 + 308)"
   ]
  },
  {
   "cell_type": "markdown",
   "metadata": {},
   "source": [
    "##### Recall"
   ]
  },
  {
   "cell_type": "code",
   "execution_count": 26,
   "metadata": {},
   "outputs": [
    {
     "data": {
      "text/plain": [
       "0.9163738580463809"
      ]
     },
     "execution_count": 26,
     "metadata": {},
     "output_type": "execute_result"
    }
   ],
   "source": [
    "3912 / (3912+357)"
   ]
  },
  {
   "cell_type": "markdown",
   "metadata": {},
   "source": [
    "##### Precision"
   ]
  },
  {
   "cell_type": "code",
   "execution_count": 28,
   "metadata": {},
   "outputs": [
    {
     "data": {
      "text/plain": [
       "0.9270142180094787"
      ]
     },
     "execution_count": 28,
     "metadata": {},
     "output_type": "execute_result"
    }
   ],
   "source": [
    "3912 / (3912+308)"
   ]
  },
  {
   "cell_type": "markdown",
   "metadata": {},
   "source": [
    "# Markdown Notes"
   ]
  },
  {
   "cell_type": "markdown",
   "metadata": {},
   "source": [
    "#### Printing tables to MD\n",
    "\n",
    "Use the to_markdown() functions"
   ]
  },
  {
   "cell_type": "code",

   "execution_count": 27,

   "metadata": {},
   "outputs": [
    {
     "name": "stdout",
     "output_type": "stream",
     "text": [
      "|    | teamID   |\n",
      "|---:|:---------|\n",
      "|  0 | BS1      |\n",
      "|  1 | CH1      |\n",
      "|  2 | CL1      |\n",
      "|  3 | FW1      |\n",
      "|  4 | NY2      |\n"
     ]
    }
   ],
   "source": [
    "print(sql_dataframe_0.to_markdown())"
   ]
  }
 ],
 "metadata": {
  "interpreter": {
   "hash": "7479411c3953282544f6e208cdaeff71f6abbf3f31e607edcac1d480518af4ab"
  },
  "kernelspec": {
   "display_name": "Python 3.9.0 64-bit",
   "language": "python",
   "name": "python3"
  },
  "language_info": {
   "codemirror_mode": {
    "name": "ipython",
    "version": 3
   },
   "file_extension": ".py",
   "mimetype": "text/x-python",
   "name": "python",
   "nbconvert_exporter": "python",
   "pygments_lexer": "ipython3",
   "version": "3.10.2"
  },
  "orig_nbformat": 4
 },
 "nbformat": 4,
 "nbformat_minor": 2
}
